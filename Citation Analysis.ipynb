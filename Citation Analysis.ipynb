{
 "cells": [
  {
   "cell_type": "code",
   "execution_count": 114,
   "metadata": {
    "collapsed": true
   },
   "outputs": [],
   "source": [
    "import pandas as pd\n",
    "from gensim.models.doc2vec import  Doc2Vec, TaggedDocument\n",
    "from sklearn.metrics.pairwise import cosine_similarity\n",
    "import numpy as np\n",
    "import matplotlib.pyplot as plt\n",
    "import matplotlib as mpl\n",
    "from matplotlib import rcParams\n",
    "import seaborn as sns\n",
    "# drop the warnings\n",
    "import warnings\n",
    "warnings.filterwarnings(\"ignore\", category=DeprecationWarning)\n"
   ]
  },
  {
   "cell_type": "code",
   "execution_count": 15,
   "metadata": {
    "collapsed": true
   },
   "outputs": [],
   "source": [
    "input_data7 = pd.read_csv('input_data7.csv', \n",
    "                          dtype = {'patent_id':object},\n",
    "                          encoding = 'ISO-8859-1')"
   ]
  },
  {
   "cell_type": "code",
   "execution_count": 42,
   "metadata": {
    "collapsed": true
   },
   "outputs": [],
   "source": [
    "input_data8 = pd.read_csv('input_data8.csv',\n",
    "                          dtype = {'patent_id':object,'citing_patent':object},\n",
    "                          encoding= 'ISO-8859-1')"
   ]
  },
  {
   "cell_type": "code",
   "execution_count": null,
   "metadata": {},
   "outputs": [],
   "source": [
    "input_data7.head()"
   ]
  },
  {
   "cell_type": "code",
   "execution_count": 43,
   "metadata": {},
   "outputs": [],
   "source": [
    "ipd8_backup = input_data8\n",
    "input_data8 = input_data8.dropna()"
   ]
  },
  {
   "cell_type": "code",
   "execution_count": 4,
   "metadata": {},
   "outputs": [],
   "source": [
    "modell = Doc2Vec.load('patentd2v_model')"
   ]
  },
  {
   "cell_type": "code",
   "execution_count": 33,
   "metadata": {},
   "outputs": [
    {
     "data": {
      "text/plain": [
       "Int64Index([], dtype='int64')"
      ]
     },
     "execution_count": 33,
     "metadata": {},
     "output_type": "execute_result"
    }
   ],
   "source": [
    "citing_pat = input_data8['citing_patent'][2]\n",
    "j = input_data7.loc[input_data7['patent_id'] == citing_pat].index\n",
    "j"
   ]
  },
  {
   "cell_type": "code",
   "execution_count": 121,
   "metadata": {},
   "outputs": [],
   "source": [
    "css_values = []\n",
    "\n",
    "for index,row in input_data8.iterrows():\n",
    "    pat = input_data8['patent_id'][index]\n",
    "    citing_pat = input_data8['citing_patent'][index]\n",
    "    i = input_data7.loc[input_data7['patent_id'] == pat].index[0]\n",
    "    j = input_data7.loc[input_data7['patent_id'] == citing_pat].index[0]\n",
    "    \n",
    "    vector_1 = modell.docvecs[i]\n",
    "    vector_2 = modell.docvecs[j]\n",
    "    css = cosine_similarity(vector_1, vector_2)\n",
    "    css = css\n",
    "    css_values.append(css[0][0])\n",
    "    "
   ]
  },
  {
   "cell_type": "code",
   "execution_count": 122,
   "metadata": {},
   "outputs": [
    {
     "name": "stderr",
     "output_type": "stream",
     "text": [
      "C:\\ProgramData\\Anaconda3\\lib\\site-packages\\ipykernel_launcher.py:1: SettingWithCopyWarning: \n",
      "A value is trying to be set on a copy of a slice from a DataFrame.\n",
      "Try using .loc[row_indexer,col_indexer] = value instead\n",
      "\n",
      "See the caveats in the documentation: http://pandas.pydata.org/pandas-docs/stable/indexing.html#indexing-view-versus-copy\n",
      "  \"\"\"Entry point for launching an IPython kernel.\n"
     ]
    }
   ],
   "source": [
    "input_data8['css'] = css_values"
   ]
  },
  {
   "cell_type": "code",
   "execution_count": 65,
   "metadata": {},
   "outputs": [
    {
     "data": {
      "text/html": [
       "<div>\n",
       "<style>\n",
       "    .dataframe thead tr:only-child th {\n",
       "        text-align: right;\n",
       "    }\n",
       "\n",
       "    .dataframe thead th {\n",
       "        text-align: left;\n",
       "    }\n",
       "\n",
       "    .dataframe tbody tr th {\n",
       "        vertical-align: top;\n",
       "    }\n",
       "</style>\n",
       "<table border=\"1\" class=\"dataframe\">\n",
       "  <thead>\n",
       "    <tr style=\"text-align: right;\">\n",
       "      <th></th>\n",
       "      <th>patent_id</th>\n",
       "      <th>title</th>\n",
       "      <th>abstract</th>\n",
       "      <th>grant_year</th>\n",
       "      <th>grant_date</th>\n",
       "      <th>organization</th>\n",
       "      <th>org_number</th>\n",
       "      <th>section_id</th>\n",
       "      <th>class_number</th>\n",
       "      <th>citing_patent</th>\n",
       "      <th>cit_app_year</th>\n",
       "      <th>cit_app_date</th>\n",
       "      <th>css</th>\n",
       "    </tr>\n",
       "  </thead>\n",
       "  <tbody>\n",
       "    <tr>\n",
       "      <th>0</th>\n",
       "      <td>3931070</td>\n",
       "      <td>Plywood adhesive</td>\n",
       "      <td>A phenolic plywood adhesive containing lignos...</td>\n",
       "      <td>1976.0</td>\n",
       "      <td>1976-01-06</td>\n",
       "      <td>Georgia Pacific</td>\n",
       "      <td>6</td>\n",
       "      <td>C</td>\n",
       "      <td>3.0</td>\n",
       "      <td>8945666</td>\n",
       "      <td>2012.0</td>\n",
       "      <td>2012-05-24</td>\n",
       "      <td>0.221066</td>\n",
       "    </tr>\n",
       "    <tr>\n",
       "      <th>1</th>\n",
       "      <td>3934111</td>\n",
       "      <td>Apparatus for heating a window</td>\n",
       "      <td>A grid of heating conductors for defrosting a...</td>\n",
       "      <td>1976.0</td>\n",
       "      <td>1976-01-20</td>\n",
       "      <td>Saint Gobain</td>\n",
       "      <td>17</td>\n",
       "      <td>G</td>\n",
       "      <td>7.0</td>\n",
       "      <td>4032745</td>\n",
       "      <td>1975.0</td>\n",
       "      <td>1975-04-17</td>\n",
       "      <td>0.494214</td>\n",
       "    </tr>\n",
       "    <tr>\n",
       "      <th>2</th>\n",
       "      <td>3934111</td>\n",
       "      <td>Apparatus for heating a window</td>\n",
       "      <td>A grid of heating conductors for defrosting a...</td>\n",
       "      <td>1976.0</td>\n",
       "      <td>1976-01-20</td>\n",
       "      <td>Saint Gobain</td>\n",
       "      <td>17</td>\n",
       "      <td>G</td>\n",
       "      <td>7.0</td>\n",
       "      <td>4135078</td>\n",
       "      <td>1976.0</td>\n",
       "      <td>1976-06-25</td>\n",
       "      <td>0.368637</td>\n",
       "    </tr>\n",
       "    <tr>\n",
       "      <th>4</th>\n",
       "      <td>3935021</td>\n",
       "      <td>Water-resistant gypsum products</td>\n",
       "      <td>The water resistance of gypsum products, such...</td>\n",
       "      <td>1976.0</td>\n",
       "      <td>1976-01-27</td>\n",
       "      <td>Georgia Pacific</td>\n",
       "      <td>6</td>\n",
       "      <td>C</td>\n",
       "      <td>3.0</td>\n",
       "      <td>4042409</td>\n",
       "      <td>1976.0</td>\n",
       "      <td>1976-04-01</td>\n",
       "      <td>0.412234</td>\n",
       "    </tr>\n",
       "    <tr>\n",
       "      <th>5</th>\n",
       "      <td>3935021</td>\n",
       "      <td>Water-resistant gypsum products</td>\n",
       "      <td>The water resistance of gypsum products, such...</td>\n",
       "      <td>1976.0</td>\n",
       "      <td>1976-01-27</td>\n",
       "      <td>Georgia Pacific</td>\n",
       "      <td>6</td>\n",
       "      <td>C</td>\n",
       "      <td>3.0</td>\n",
       "      <td>4094694</td>\n",
       "      <td>1977.0</td>\n",
       "      <td>1977-05-16</td>\n",
       "      <td>0.488477</td>\n",
       "    </tr>\n",
       "  </tbody>\n",
       "</table>\n",
       "</div>"
      ],
      "text/plain": [
       "  patent_id                            title  \\\n",
       "0   3931070                 Plywood adhesive   \n",
       "1   3934111   Apparatus for heating a window   \n",
       "2   3934111   Apparatus for heating a window   \n",
       "4   3935021  Water-resistant gypsum products   \n",
       "5   3935021  Water-resistant gypsum products   \n",
       "\n",
       "                                            abstract  grant_year  grant_date  \\\n",
       "0   A phenolic plywood adhesive containing lignos...      1976.0  1976-01-06   \n",
       "1   A grid of heating conductors for defrosting a...      1976.0  1976-01-20   \n",
       "2   A grid of heating conductors for defrosting a...      1976.0  1976-01-20   \n",
       "4   The water resistance of gypsum products, such...      1976.0  1976-01-27   \n",
       "5   The water resistance of gypsum products, such...      1976.0  1976-01-27   \n",
       "\n",
       "      organization  org_number section_id  class_number citing_patent  \\\n",
       "0  Georgia Pacific           6          C           3.0       8945666   \n",
       "1     Saint Gobain          17          G           7.0       4032745   \n",
       "2     Saint Gobain          17          G           7.0       4135078   \n",
       "4  Georgia Pacific           6          C           3.0       4042409   \n",
       "5  Georgia Pacific           6          C           3.0       4094694   \n",
       "\n",
       "   cit_app_year cit_app_date       css  \n",
       "0        2012.0   2012-05-24  0.221066  \n",
       "1        1975.0   1975-04-17  0.494214  \n",
       "2        1976.0   1976-06-25  0.368637  \n",
       "4        1976.0   1976-04-01  0.412234  \n",
       "5        1977.0   1977-05-16  0.488477  "
      ]
     },
     "execution_count": 65,
     "metadata": {},
     "output_type": "execute_result"
    }
   ],
   "source": [
    "input_data8.head()"
   ]
  },
  {
   "cell_type": "code",
   "execution_count": 67,
   "metadata": {},
   "outputs": [],
   "source": [
    "input_data8.to_csv('css_doc2vec.csv', index= False)"
   ]
  },
  {
   "cell_type": "code",
   "execution_count": 68,
   "metadata": {
    "collapsed": true
   },
   "outputs": [],
   "source": [
    "input_data = pd.read_csv('css_doc2vec.csv', encoding= 'ISO-8859-1')"
   ]
  },
  {
   "cell_type": "markdown",
   "metadata": {},
   "source": [
    "### Citation counts"
   ]
  },
  {
   "cell_type": "code",
   "execution_count": 89,
   "metadata": {},
   "outputs": [
    {
     "data": {
      "text/html": [
       "<div>\n",
       "<style>\n",
       "    .dataframe thead tr:only-child th {\n",
       "        text-align: right;\n",
       "    }\n",
       "\n",
       "    .dataframe thead th {\n",
       "        text-align: left;\n",
       "    }\n",
       "\n",
       "    .dataframe tbody tr th {\n",
       "        vertical-align: top;\n",
       "    }\n",
       "</style>\n",
       "<table border=\"1\" class=\"dataframe\">\n",
       "  <thead>\n",
       "    <tr style=\"text-align: right;\">\n",
       "      <th></th>\n",
       "      <th>number of patents</th>\n",
       "      <th>citation_count</th>\n",
       "      <th>number_of_pairs</th>\n",
       "    </tr>\n",
       "  </thead>\n",
       "  <tbody>\n",
       "    <tr>\n",
       "      <th>1</th>\n",
       "      <td>820</td>\n",
       "      <td>1</td>\n",
       "      <td>820</td>\n",
       "    </tr>\n",
       "    <tr>\n",
       "      <th>2</th>\n",
       "      <td>408</td>\n",
       "      <td>2</td>\n",
       "      <td>816</td>\n",
       "    </tr>\n",
       "    <tr>\n",
       "      <th>3</th>\n",
       "      <td>213</td>\n",
       "      <td>3</td>\n",
       "      <td>639</td>\n",
       "    </tr>\n",
       "    <tr>\n",
       "      <th>4</th>\n",
       "      <td>159</td>\n",
       "      <td>4</td>\n",
       "      <td>636</td>\n",
       "    </tr>\n",
       "    <tr>\n",
       "      <th>5</th>\n",
       "      <td>117</td>\n",
       "      <td>5</td>\n",
       "      <td>585</td>\n",
       "    </tr>\n",
       "  </tbody>\n",
       "</table>\n",
       "</div>"
      ],
      "text/plain": [
       "   number of patents  citation_count  number_of_pairs\n",
       "1                820               1              820\n",
       "2                408               2              816\n",
       "3                213               3              639\n",
       "4                159               4              636\n",
       "5                117               5              585"
      ]
     },
     "execution_count": 89,
     "metadata": {},
     "output_type": "execute_result"
    }
   ],
   "source": [
    "X4_citation = input_data.groupby('patent_id')['citing_patent'].nunique() # count of cited patents per patent\n",
    "\n",
    "X8_citation = input_data.groupby('patent_id')['css'].mean() # mean citation css \n",
    "\n",
    "df_counts_css_citation = pd.DataFrame({'citation_count':X4_citation,'mean_css':X8_citation})\n",
    "\n",
    "# Don't drop. Just take rows where css is finite\n",
    "df_counts_css_citation = df_counts_css_citation[np.isfinite(df_counts_css_citation['mean_css'])]\n",
    "\n",
    "\n",
    "df_counts_css_citation.head()\n",
    "\n",
    "pair_count = pd.DataFrame(df_counts_css_citation['citation_count'].value_counts()) #number of pairs that are cited 1,2,3, etc times \n",
    "\n",
    "#df_counts_css_self_citation.loc[df_counts_css_self_citation['citation_count']==1] #780\n",
    "\n",
    "pair_count = pair_count.rename(columns={'citation_count':'number of patents'})\n",
    "pair_count['citation_count'] = pair_count.index\n",
    "pair_count['number_of_pairs'] = pair_count['number of patents'] * pair_count['citation_count']\n",
    "\n",
    "pair_count.head() #780 patents were cited once, so 780 pairs\n",
    "                  #394 patents were cited twice, so 788 pairs, etc"
   ]
  },
  {
   "cell_type": "code",
   "execution_count": 90,
   "metadata": {},
   "outputs": [
    {
     "data": {
      "image/png": "[encoded data removed]",
      "text/plain": [
       "<matplotlib.figure.Figure at 0x210826d0278>"
      ]
     },
     "metadata": {},
     "output_type": "display_data"
    }
   ],
   "source": [
    "sns.set_style(\"darkgrid\")\n",
    "\n",
    "g = sns.lmplot(x='citation_count', # horizontal axis\n",
    "               y='number_of_pairs',   # vertical axis\n",
    "               data=pair_count,  # data source\n",
    "               fit_reg=False,    # regression line\n",
    "               )        \n",
    "\n",
    "xticks = np.arange(0,85,5).tolist()\n",
    "#yticks_list = np.arange(0.15,0.30, 0.05).tolist()\n",
    "#yticks = [ round(elem, 2) for elem in yticks_list ]\n",
    "g = g.set(xlim=(0,85), xticks=xticks)\n",
    "\n",
    "plt.title(\"Number of pairs per citation count\", fontsize=14)\n",
    "plt.xlabel(\"Citation Count\", fontsize=14) #Adding axis labels\n",
    "plt.ylabel(\"Number of pairs\", fontsize=14)\n",
    "plt.show()"
   ]
  },
  {
   "cell_type": "markdown",
   "metadata": {},
   "source": [
    "### Avera"
   ]
  },
  {
   "cell_type": "code",
   "execution_count": 91,
   "metadata": {},
   "outputs": [],
   "source": [
    "def xfrange(start, stop, step):\n",
    "    i = 0\n",
    "    while start + i * step < stop:\n",
    "        yield start + i * step\n",
    "        i += 1\n",
    "\n",
    "\n",
    "average_css_citation = []\n",
    "citation_count_citation = []\n",
    "\n",
    "for i in xfrange(1, 85, 1):\n",
    "    df_counts_css_gt = df_counts_css_citation[df_counts_css_citation['citation_count'] == [i]]\n",
    "    average_css_citation.append(df_counts_css_gt['mean_css'].mean())\n",
    "    citation_count_citation.append(i)\n",
    "    \n",
    "citation_count_df_citation = pd.DataFrame(np.column_stack([citation_count_citation, average_css_citation]),\n",
    "                        columns=['citation_count_citation','average_css_citation']) \n",
    "\n",
    "citation_count_df_citation = citation_count_df_citation.apply(pd.to_numeric)"
   ]
  },
  {
   "cell_type": "code",
   "execution_count": 93,
   "metadata": {},
   "outputs": [
    {
     "data": {
      "image/png": "[encoded data removed]",
      "text/plain": [
       "<matplotlib.figure.Figure at 0x210828535f8>"
      ]
     },
     "metadata": {},
     "output_type": "display_data"
    },
    {
     "data": {
      "text/html": [
       "<div>\n",
       "<style>\n",
       "    .dataframe thead tr:only-child th {\n",
       "        text-align: right;\n",
       "    }\n",
       "\n",
       "    .dataframe thead th {\n",
       "        text-align: left;\n",
       "    }\n",
       "\n",
       "    .dataframe tbody tr th {\n",
       "        vertical-align: top;\n",
       "    }\n",
       "</style>\n",
       "<table border=\"1\" class=\"dataframe\">\n",
       "  <thead>\n",
       "    <tr style=\"text-align: right;\">\n",
       "      <th></th>\n",
       "      <th>citation_count_citation</th>\n",
       "      <th>average_css_citation</th>\n",
       "    </tr>\n",
       "  </thead>\n",
       "  <tbody>\n",
       "    <tr>\n",
       "      <th>0</th>\n",
       "      <td>1.0</td>\n",
       "      <td>0.368720</td>\n",
       "    </tr>\n",
       "    <tr>\n",
       "      <th>1</th>\n",
       "      <td>2.0</td>\n",
       "      <td>0.358790</td>\n",
       "    </tr>\n",
       "    <tr>\n",
       "      <th>2</th>\n",
       "      <td>3.0</td>\n",
       "      <td>0.329807</td>\n",
       "    </tr>\n",
       "    <tr>\n",
       "      <th>3</th>\n",
       "      <td>4.0</td>\n",
       "      <td>0.321205</td>\n",
       "    </tr>\n",
       "    <tr>\n",
       "      <th>4</th>\n",
       "      <td>5.0</td>\n",
       "      <td>0.331942</td>\n",
       "    </tr>\n",
       "    <tr>\n",
       "      <th>5</th>\n",
       "      <td>6.0</td>\n",
       "      <td>0.310406</td>\n",
       "    </tr>\n",
       "    <tr>\n",
       "      <th>6</th>\n",
       "      <td>7.0</td>\n",
       "      <td>0.326123</td>\n",
       "    </tr>\n",
       "    <tr>\n",
       "      <th>7</th>\n",
       "      <td>8.0</td>\n",
       "      <td>0.312672</td>\n",
       "    </tr>\n",
       "    <tr>\n",
       "      <th>8</th>\n",
       "      <td>9.0</td>\n",
       "      <td>0.304016</td>\n",
       "    </tr>\n",
       "    <tr>\n",
       "      <th>9</th>\n",
       "      <td>10.0</td>\n",
       "      <td>0.280631</td>\n",
       "    </tr>\n",
       "  </tbody>\n",
       "</table>\n",
       "</div>"
      ],
      "text/plain": [
       "   citation_count_citation  average_css_citation\n",
       "0                      1.0              0.368720\n",
       "1                      2.0              0.358790\n",
       "2                      3.0              0.329807\n",
       "3                      4.0              0.321205\n",
       "4                      5.0              0.331942\n",
       "5                      6.0              0.310406\n",
       "6                      7.0              0.326123\n",
       "7                      8.0              0.312672\n",
       "8                      9.0              0.304016\n",
       "9                     10.0              0.280631"
      ]
     },
     "execution_count": 93,
     "metadata": {},
     "output_type": "execute_result"
    }
   ],
   "source": [
    "### Visualise \n",
    "\n",
    "sns.set_style(\"darkgrid\")\n",
    "\n",
    "def r2(x, y):\n",
    "    return stats.pearsonr(x, y)[0] ** 2\n",
    "\n",
    "g = sns.lmplot(x='citation_count_citation', # horizontal axis\n",
    "               y='average_css_citation',   # vertical axis\n",
    "               data=citation_count_df_citation,  # data source self citation \n",
    "               fit_reg=True,    # regression line\n",
    "               #height=12\n",
    "               )        \n",
    "\n",
    "xticks = np.arange(0,85,5).tolist()\n",
    "\n",
    "g = g.set(xlim=(0,85), xticks=xticks)\n",
    "\n",
    "plt.title(\"Changes in average CSS using different exact citation counts\", fontsize=14)\n",
    "plt.xlabel(\"Exact number of citations\", fontsize=14) #Adding axis labels\n",
    "plt.ylabel(\"Average CSS\", fontsize=14)\n",
    "plt.show()\n",
    "\n",
    "citation_count_df_citation.head(10)"
   ]
  },
  {
   "cell_type": "code",
   "execution_count": 97,
   "metadata": {},
   "outputs": [
    {
     "name": "stderr",
     "output_type": "stream",
     "text": [
      "C:\\ProgramData\\Anaconda3\\lib\\site-packages\\sklearn\\utils\\validation.py:395: DeprecationWarning: Passing 1d arrays as data is deprecated in 0.17 and will raise ValueError in 0.19. Reshape your data either using X.reshape(-1, 1) if your data has a single feature or X.reshape(1, -1) if it contains a single sample.\n",
      "  DeprecationWarning)\n",
      "C:\\ProgramData\\Anaconda3\\lib\\site-packages\\sklearn\\utils\\validation.py:395: DeprecationWarning: Passing 1d arrays as data is deprecated in 0.17 and will raise ValueError in 0.19. Reshape your data either using X.reshape(-1, 1) if your data has a single feature or X.reshape(1, -1) if it contains a single sample.\n",
      "  DeprecationWarning)\n"
     ]
    },
    {
     "data": {
      "text/plain": [
       "array([[ 0.17527699]], dtype=float32)"
      ]
     },
     "execution_count": 97,
     "metadata": {},
     "output_type": "execute_result"
    }
   ],
   "source": [
    "vector_1 = modell.docvecs[0]\n",
    "vector_2 = modell.docvecs[3854]\n",
    "cosine_similarity(vector_1, vector_2)"
   ]
  },
  {
   "cell_type": "code",
   "execution_count": 105,
   "metadata": {},
   "outputs": [
    {
     "data": {
      "text/plain": [
       "3525"
      ]
     },
     "execution_count": 105,
     "metadata": {},
     "output_type": "execute_result"
    }
   ],
   "source": [
    "a = input_data7.sample().index[0]\n",
    "a"
   ]
  },
  {
   "cell_type": "code",
   "execution_count": 120,
   "metadata": {},
   "outputs": [
    {
     "data": {
      "text/plain": [
       "0.19007875576615332"
      ]
     },
     "execution_count": 120,
     "metadata": {},
     "output_type": "execute_result"
    }
   ],
   "source": [
    "random_css = []\n",
    "\n",
    "\n",
    "for i in range(0,100):\n",
    "    a = input_data7.sample().index[0]\n",
    "    b = input_data7.sample().index[0]\n",
    "    if a != b:\n",
    "        vector_1 = modell.docvecs[a]\n",
    "        vector_2 = modell.docvecs[b]\n",
    "        css=cosine_similarity(vector_1, vector_2)\n",
    "        random_css.append(css[0][0])\n",
    "random_css = np.array(random_css, dtype= float)\n",
    "np.mean(random_css)"
   ]
  },
  {
   "cell_type": "code",
   "execution_count": null,
   "metadata": {
    "collapsed": true
   },
   "outputs": [],
   "source": []
  }
 ],
 "metadata": {
  "kernelspec": {
   "display_name": "Python 3",
   "language": "python",
   "name": "python3"
  },
  "language_info": {
   "codemirror_mode": {
    "name": "ipython",
    "version": 3
   },
   "file_extension": ".py",
   "mimetype": "text/x-python",
   "name": "python",
   "nbconvert_exporter": "python",
   "pygments_lexer": "ipython3",
   "version": "3.6.1"
  }
 },
 "nbformat": 4,
 "nbformat_minor": 2
}
