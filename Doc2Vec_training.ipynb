{
 "cells": [
  {
   "cell_type": "code",
   "execution_count": 1,
   "metadata": {
    "collapsed": true
   },
   "outputs": [],
   "source": [
    "from gensim.models.doc2vec import  Doc2Vec, TaggedDocument\n",
    "from nltk import word_tokenize\n",
    "import pandas as pd  \n",
    "import string \n",
    "\n",
    "from nltk.corpus import stopwords\n",
    "stop_words = set(stopwords.words('english'))"
   ]
  },
  {
   "cell_type": "code",
   "execution_count": 15,
   "metadata": {
    "collapsed": true
   },
   "outputs": [],
   "source": [
    "input_data7 = pd.read_csv('input_data7.csv', header = 0,\n",
    "                          usecols= ['patent_id', 'combined'],\n",
    "                          dtype = {'patent_id':object},\n",
    "                          encoding = 'ISO-8859-1')"
   ]
  },
  {
   "cell_type": "code",
   "execution_count": 38,
   "metadata": {
    "collapsed": true
   },
   "outputs": [],
   "source": [
    "my_columns = input_data7['patent_id'].tolist() # create patent list\n",
    "corpus = input_data7['combined'].tolist()\n",
    "patent_numbers = '|'.join(my_columns)"
   ]
  },
  {
   "cell_type": "code",
   "execution_count": 5,
   "metadata": {},
   "outputs": [
    {
     "name": "stderr",
     "output_type": "stream",
     "text": [
      "C:\\ProgramData\\Anaconda3\\lib\\site-packages\\ipykernel_launcher.py:11: DeprecationWarning: \n",
      ".ix is deprecated. Please use\n",
      ".loc for label based indexing or\n",
      ".iloc for positional indexing\n",
      "\n",
      "See the documentation here:\n",
      "http://pandas.pydata.org/pandas-docs/stable/indexing.html#deprecate_ix\n",
      "  # This is added back by InteractiveShellApp.init_path()\n"
     ]
    }
   ],
   "source": [
    "#preprocessing \n",
    "\n",
    "\n",
    "patent_terms = pd.read_csv('patent_terms.csv', encoding = 'ISO-8859-1')\n",
    "patent_terms = patent_terms.rename(columns={0:'terms'})\n",
    "patent_terms_append = ['claim','claimed','according','selected','comprising','consisting','means','le','wt','group','thereof','weight']\n",
    "patent_terms = patent_terms.append(pd.DataFrame(patent_terms_append, columns=['terms']), ignore_index=True)\n",
    "patent_terms = patent_terms.drop_duplicates()\n",
    "patent_terms.to_csv('patent_terms.csv', index=False)\n",
    "\n",
    "jargon = set(patent_terms.ix[:, 0])  # build a \"patent jargon\" lexical\n",
    "''' jargon removes word \"containing\", we want to weigh lignosulfonate which follows!'''\n",
    "\n",
    "## Punctuation\n",
    "# nltk.download('punkt')\n",
    "punctuations = set(string.punctuation)\n",
    "punctuations.remove('-') # maybe remove hyphens\n",
    "#punctuations.remove('/')\n",
    "\n",
    "from nltk.stem.wordnet import WordNetLemmatizer\n",
    "lemma = WordNetLemmatizer()\n",
    "word_len = 2\n",
    "def clean(doc):\n",
    "    number_free = ''.join([c for c in doc if c not in \"1234567890\"])\n",
    "    words = [word.strip(string.punctuation) for word in number_free.split(\" \")]\n",
    "    filtered = [f for f in words if f and f.lower() not in stop_words]\n",
    "    undo = \"\".join([\" \"+i if not i.startswith(\"'\") and i not in string.punctuation else i for i in filtered]).strip()\n",
    "    punc_free = ''.join(ch for ch in undo if ch not in punctuations)\n",
    "    smallword_free = ' '.join([w for w in punc_free.split() if len(w) > word_len])\n",
    "    lemmatized = \" \".join(lemma.lemmatize(word) for word in smallword_free.split())\n",
    "    jargon_free = \" \" .join([j for j in lemmatized.lower().split() if j not in jargon])\n",
    "    return jargon_free"
   ]
  },
  {
   "cell_type": "code",
   "execution_count": 39,
   "metadata": {
    "scrolled": false
   },
   "outputs": [
    {
     "name": "stderr",
     "output_type": "stream",
     "text": [
      "C:\\ProgramData\\Anaconda3\\lib\\site-packages\\ipykernel_launcher.py:11: DeprecationWarning: \n",
      ".ix is deprecated. Please use\n",
      ".loc for label based indexing or\n",
      ".iloc for positional indexing\n",
      "\n",
      "See the documentation here:\n",
      "http://pandas.pydata.org/pandas-docs/stable/indexing.html#deprecate_ix\n",
      "  # This is added back by InteractiveShellApp.init_path()\n"
     ]
    }
   ],
   "source": [
    "corpus_clean = [clean(doc) for doc in corpus] # list of sentance strings\n",
    "#corpus_tokenize = [clean(doc).split() for doc in corpus]  # list of string words"
   ]
  },
  {
   "cell_type": "code",
   "execution_count": 40,
   "metadata": {},
   "outputs": [
    {
     "data": {
      "text/plain": [
       "'plywood adhesive phenolic plywood adhesive containing lignosulfonates trialkyl phosphate alkyltituents carbon atom use curtain coater described process applying phenol-formaldehyde resin adhesive containing amylaceous proteinaceous material plywood veneer using curtain coater improvement comprises adding least percent based upon weight phenol-formaldehyde resin said adhesive sodium base lignosulfonate percent based upon weight phenol-formaldehyde resin trialkyl phosphate alkyltituents carbon atomsa process according claim wherein trialkyl phosphate tributyl phosphatea process according claim wherein sodium base lignosulfonate added amount weight percenta process according claim wherein trialkyl phosphate tributyl phosphate added amount percenta process according claim wherein sodium lignosulfonate added phenol formaldehyde mixture condensation phenol formaldehyde preparation phenol-formaldehyde resina process according claim wherein lignosulfonate added amount weight percent trialkyl phosphate tributyl phosphate added amount percenta process according claim wherein sodium base lignosulfonate sodium base spent sulfite liquora process according claim wherein phenol-formaldehyde resin condensed mole ratio mole formaldehyde per mole phenolin phenol-formaldehyde plywood adhesive containing amylaceous proteinaceous material plywood veneer using curtain coater improvement comprises adding least percent based upon weight phenol-formaldehyde resin said adhesive sodium base lignosulfonate percent based upon weight phenol-formaldehyde resin trialkyl phosphate alkyltituents carbon atomsan adhesive composition according claim wherein sodium base lignosulfonate added amount weight percent phenol formaldehyde mixture condensation phenol formaldehyde preparation phenol-formaldehyde resin trialkyl phosphate tributyl phosphate added amount percent'"
      ]
     },
     "execution_count": 40,
     "metadata": {},
     "output_type": "execute_result"
    }
   ],
   "source": [
    "corpus_clean[0]"
   ]
  },
  {
   "cell_type": "code",
   "execution_count": 6,
   "metadata": {
    "collapsed": true
   },
   "outputs": [],
   "source": [
    "data = data_df['combined'].tolist()"
   ]
  },
  {
   "cell_type": "code",
   "execution_count": 41,
   "metadata": {
    "collapsed": true
   },
   "outputs": [],
   "source": [
    "tagged_data = [TaggedDocument(words= word_tokenize(_d.lower()), tags = [str(i)])\n",
    "              for i, _d in enumerate(corpus_clean)]\n",
    "\n",
    "#Need to figure out how to make the patent ID the document tag\n",
    "# tagged_data = [TaggedDocument(words= word_tokenize(_d.lower()), tags = [str(i)])\n",
    "#               for i, _d in enumerate(data)]\n",
    "\n",
    "\n",
    "\n",
    "\n",
    "\n",
    "\n"
   ]
  },
  {
   "cell_type": "code",
   "execution_count": 42,
   "metadata": {},
   "outputs": [
    {
     "data": {
      "text/plain": [
       "5651"
      ]
     },
     "execution_count": 42,
     "metadata": {},
     "output_type": "execute_result"
    }
   ],
   "source": [
    "len(tagged_data)"
   ]
  },
  {
   "cell_type": "code",
   "execution_count": 48,
   "metadata": {
    "collapsed": true
   },
   "outputs": [
    {
     "name": "stderr",
     "output_type": "stream",
     "text": [
      "C:\\ProgramData\\Anaconda3\\lib\\site-packages\\gensim\\models\\doc2vec.py:580: UserWarning: The parameter `size` is deprecated, will be removed in 4.0.0, use `vector_size` instead.\n",
      "  warnings.warn(\"The parameter `size` is deprecated, will be removed in 4.0.0, use `vector_size` instead.\")\n"
     ]
    },
    {
     "name": "stdout",
     "output_type": "stream",
     "text": [
      "iteration 0\n"
     ]
    },
    {
     "name": "stderr",
     "output_type": "stream",
     "text": [
      "C:\\ProgramData\\Anaconda3\\lib\\site-packages\\ipykernel_launcher.py:18: DeprecationWarning: Call to deprecated `iter` (Attribute will be removed in 4.0.0, use self.epochs instead).\n"
     ]
    },
    {
     "name": "stdout",
     "output_type": "stream",
     "text": [
      "iteration 1\n",
      "iteration 2\n",
      "iteration 3\n"
     ]
    },
    {
     "ename": "KeyboardInterrupt",
     "evalue": "",
     "output_type": "error",
     "traceback": [
      "\u001b[1;31m---------------------------------------------------------------------------\u001b[0m",
      "\u001b[1;31mKeyboardInterrupt\u001b[0m                         Traceback (most recent call last)",
      "\u001b[1;32m<ipython-input-48-4e17a9cf36cd>\u001b[0m in \u001b[0;36m<module>\u001b[1;34m()\u001b[0m\n\u001b[0;32m     16\u001b[0m     model.train(tagged_data,\n\u001b[0;32m     17\u001b[0m                 \u001b[0mtotal_examples\u001b[0m\u001b[1;33m=\u001b[0m\u001b[0mmodel\u001b[0m\u001b[1;33m.\u001b[0m\u001b[0mcorpus_count\u001b[0m\u001b[1;33m,\u001b[0m\u001b[1;33m\u001b[0m\u001b[0m\n\u001b[1;32m---> 18\u001b[1;33m                 epochs=model.iter)\n\u001b[0m\u001b[0;32m     19\u001b[0m     \u001b[1;31m# decrease the learning rate\u001b[0m\u001b[1;33m\u001b[0m\u001b[1;33m\u001b[0m\u001b[0m\n\u001b[0;32m     20\u001b[0m     \u001b[0mmodel\u001b[0m\u001b[1;33m.\u001b[0m\u001b[0malpha\u001b[0m \u001b[1;33m-=\u001b[0m \u001b[1;36m0.0002\u001b[0m\u001b[1;33m\u001b[0m\u001b[0m\n",
      "\u001b[1;32mC:\\ProgramData\\Anaconda3\\lib\\site-packages\\gensim\\models\\doc2vec.py\u001b[0m in \u001b[0;36mtrain\u001b[1;34m(self, documents, corpus_file, total_examples, total_words, epochs, start_alpha, end_alpha, word_count, queue_factor, report_delay, callbacks)\u001b[0m\n\u001b[0;32m    804\u001b[0m             \u001b[0msentences\u001b[0m\u001b[1;33m=\u001b[0m\u001b[0mdocuments\u001b[0m\u001b[1;33m,\u001b[0m \u001b[0mcorpus_file\u001b[0m\u001b[1;33m=\u001b[0m\u001b[0mcorpus_file\u001b[0m\u001b[1;33m,\u001b[0m \u001b[0mtotal_examples\u001b[0m\u001b[1;33m=\u001b[0m\u001b[0mtotal_examples\u001b[0m\u001b[1;33m,\u001b[0m \u001b[0mtotal_words\u001b[0m\u001b[1;33m=\u001b[0m\u001b[0mtotal_words\u001b[0m\u001b[1;33m,\u001b[0m\u001b[1;33m\u001b[0m\u001b[0m\n\u001b[0;32m    805\u001b[0m             \u001b[0mepochs\u001b[0m\u001b[1;33m=\u001b[0m\u001b[0mepochs\u001b[0m\u001b[1;33m,\u001b[0m \u001b[0mstart_alpha\u001b[0m\u001b[1;33m=\u001b[0m\u001b[0mstart_alpha\u001b[0m\u001b[1;33m,\u001b[0m \u001b[0mend_alpha\u001b[0m\u001b[1;33m=\u001b[0m\u001b[0mend_alpha\u001b[0m\u001b[1;33m,\u001b[0m \u001b[0mword_count\u001b[0m\u001b[1;33m=\u001b[0m\u001b[0mword_count\u001b[0m\u001b[1;33m,\u001b[0m\u001b[1;33m\u001b[0m\u001b[0m\n\u001b[1;32m--> 806\u001b[1;33m             queue_factor=queue_factor, report_delay=report_delay, callbacks=callbacks, **kwargs)\n\u001b[0m\u001b[0;32m    807\u001b[0m \u001b[1;33m\u001b[0m\u001b[0m\n\u001b[0;32m    808\u001b[0m     \u001b[1;33m@\u001b[0m\u001b[0mclassmethod\u001b[0m\u001b[1;33m\u001b[0m\u001b[0m\n",
      "\u001b[1;32mC:\\ProgramData\\Anaconda3\\lib\\site-packages\\gensim\\models\\base_any2vec.py\u001b[0m in \u001b[0;36mtrain\u001b[1;34m(self, sentences, corpus_file, total_examples, total_words, epochs, start_alpha, end_alpha, word_count, queue_factor, report_delay, compute_loss, callbacks, **kwargs)\u001b[0m\n\u001b[0;32m   1079\u001b[0m             \u001b[0mtotal_words\u001b[0m\u001b[1;33m=\u001b[0m\u001b[0mtotal_words\u001b[0m\u001b[1;33m,\u001b[0m \u001b[0mepochs\u001b[0m\u001b[1;33m=\u001b[0m\u001b[0mepochs\u001b[0m\u001b[1;33m,\u001b[0m \u001b[0mstart_alpha\u001b[0m\u001b[1;33m=\u001b[0m\u001b[0mstart_alpha\u001b[0m\u001b[1;33m,\u001b[0m \u001b[0mend_alpha\u001b[0m\u001b[1;33m=\u001b[0m\u001b[0mend_alpha\u001b[0m\u001b[1;33m,\u001b[0m \u001b[0mword_count\u001b[0m\u001b[1;33m=\u001b[0m\u001b[0mword_count\u001b[0m\u001b[1;33m,\u001b[0m\u001b[1;33m\u001b[0m\u001b[0m\n\u001b[0;32m   1080\u001b[0m             \u001b[0mqueue_factor\u001b[0m\u001b[1;33m=\u001b[0m\u001b[0mqueue_factor\u001b[0m\u001b[1;33m,\u001b[0m \u001b[0mreport_delay\u001b[0m\u001b[1;33m=\u001b[0m\u001b[0mreport_delay\u001b[0m\u001b[1;33m,\u001b[0m \u001b[0mcompute_loss\u001b[0m\u001b[1;33m=\u001b[0m\u001b[0mcompute_loss\u001b[0m\u001b[1;33m,\u001b[0m \u001b[0mcallbacks\u001b[0m\u001b[1;33m=\u001b[0m\u001b[0mcallbacks\u001b[0m\u001b[1;33m,\u001b[0m\u001b[1;33m\u001b[0m\u001b[0m\n\u001b[1;32m-> 1081\u001b[1;33m             **kwargs)\n\u001b[0m\u001b[0;32m   1082\u001b[0m \u001b[1;33m\u001b[0m\u001b[0m\n\u001b[0;32m   1083\u001b[0m     \u001b[1;32mdef\u001b[0m \u001b[0m_get_job_params\u001b[0m\u001b[1;33m(\u001b[0m\u001b[0mself\u001b[0m\u001b[1;33m,\u001b[0m \u001b[0mcur_epoch\u001b[0m\u001b[1;33m)\u001b[0m\u001b[1;33m:\u001b[0m\u001b[1;33m\u001b[0m\u001b[0m\n",
      "\u001b[1;32mC:\\ProgramData\\Anaconda3\\lib\\site-packages\\gensim\\models\\base_any2vec.py\u001b[0m in \u001b[0;36mtrain\u001b[1;34m(self, data_iterable, corpus_file, epochs, total_examples, total_words, queue_factor, report_delay, callbacks, **kwargs)\u001b[0m\n\u001b[0;32m    551\u001b[0m                 trained_word_count_epoch, raw_word_count_epoch, job_tally_epoch = self._train_epoch(\n\u001b[0;32m    552\u001b[0m                     \u001b[0mdata_iterable\u001b[0m\u001b[1;33m,\u001b[0m \u001b[0mcur_epoch\u001b[0m\u001b[1;33m=\u001b[0m\u001b[0mcur_epoch\u001b[0m\u001b[1;33m,\u001b[0m \u001b[0mtotal_examples\u001b[0m\u001b[1;33m=\u001b[0m\u001b[0mtotal_examples\u001b[0m\u001b[1;33m,\u001b[0m\u001b[1;33m\u001b[0m\u001b[0m\n\u001b[1;32m--> 553\u001b[1;33m                     total_words=total_words, queue_factor=queue_factor, report_delay=report_delay)\n\u001b[0m\u001b[0;32m    554\u001b[0m             \u001b[1;32melse\u001b[0m\u001b[1;33m:\u001b[0m\u001b[1;33m\u001b[0m\u001b[0m\n\u001b[0;32m    555\u001b[0m                 trained_word_count_epoch, raw_word_count_epoch, job_tally_epoch = self._train_epoch_corpusfile(\n",
      "\u001b[1;32mC:\\ProgramData\\Anaconda3\\lib\\site-packages\\gensim\\models\\base_any2vec.py\u001b[0m in \u001b[0;36m_train_epoch\u001b[1;34m(self, data_iterable, cur_epoch, total_examples, total_words, queue_factor, report_delay)\u001b[0m\n\u001b[0;32m    487\u001b[0m         trained_word_count, raw_word_count, job_tally = self._log_epoch_progress(\n\u001b[0;32m    488\u001b[0m             \u001b[0mprogress_queue\u001b[0m\u001b[1;33m,\u001b[0m \u001b[0mjob_queue\u001b[0m\u001b[1;33m,\u001b[0m \u001b[0mcur_epoch\u001b[0m\u001b[1;33m=\u001b[0m\u001b[0mcur_epoch\u001b[0m\u001b[1;33m,\u001b[0m \u001b[0mtotal_examples\u001b[0m\u001b[1;33m=\u001b[0m\u001b[0mtotal_examples\u001b[0m\u001b[1;33m,\u001b[0m \u001b[0mtotal_words\u001b[0m\u001b[1;33m=\u001b[0m\u001b[0mtotal_words\u001b[0m\u001b[1;33m,\u001b[0m\u001b[1;33m\u001b[0m\u001b[0m\n\u001b[1;32m--> 489\u001b[1;33m             report_delay=report_delay, is_corpus_file_mode=False)\n\u001b[0m\u001b[0;32m    490\u001b[0m \u001b[1;33m\u001b[0m\u001b[0m\n\u001b[0;32m    491\u001b[0m         \u001b[1;32mreturn\u001b[0m \u001b[0mtrained_word_count\u001b[0m\u001b[1;33m,\u001b[0m \u001b[0mraw_word_count\u001b[0m\u001b[1;33m,\u001b[0m \u001b[0mjob_tally\u001b[0m\u001b[1;33m\u001b[0m\u001b[0m\n",
      "\u001b[1;32mC:\\ProgramData\\Anaconda3\\lib\\site-packages\\gensim\\models\\base_any2vec.py\u001b[0m in \u001b[0;36m_log_epoch_progress\u001b[1;34m(self, progress_queue, job_queue, cur_epoch, total_examples, total_words, report_delay, is_corpus_file_mode)\u001b[0m\n\u001b[0;32m    344\u001b[0m \u001b[1;33m\u001b[0m\u001b[0m\n\u001b[0;32m    345\u001b[0m         \u001b[1;32mwhile\u001b[0m \u001b[0munfinished_worker_count\u001b[0m \u001b[1;33m>\u001b[0m \u001b[1;36m0\u001b[0m\u001b[1;33m:\u001b[0m\u001b[1;33m\u001b[0m\u001b[0m\n\u001b[1;32m--> 346\u001b[1;33m             \u001b[0mreport\u001b[0m \u001b[1;33m=\u001b[0m \u001b[0mprogress_queue\u001b[0m\u001b[1;33m.\u001b[0m\u001b[0mget\u001b[0m\u001b[1;33m(\u001b[0m\u001b[1;33m)\u001b[0m  \u001b[1;31m# blocks if workers too slow\u001b[0m\u001b[1;33m\u001b[0m\u001b[0m\n\u001b[0m\u001b[0;32m    347\u001b[0m             \u001b[1;32mif\u001b[0m \u001b[0mreport\u001b[0m \u001b[1;32mis\u001b[0m \u001b[1;32mNone\u001b[0m\u001b[1;33m:\u001b[0m  \u001b[1;31m# a thread reporting that it finished\u001b[0m\u001b[1;33m\u001b[0m\u001b[0m\n\u001b[0;32m    348\u001b[0m                 \u001b[0munfinished_worker_count\u001b[0m \u001b[1;33m-=\u001b[0m \u001b[1;36m1\u001b[0m\u001b[1;33m\u001b[0m\u001b[0m\n",
      "\u001b[1;32mC:\\ProgramData\\Anaconda3\\lib\\queue.py\u001b[0m in \u001b[0;36mget\u001b[1;34m(self, block, timeout)\u001b[0m\n\u001b[0;32m    162\u001b[0m             \u001b[1;32melif\u001b[0m \u001b[0mtimeout\u001b[0m \u001b[1;32mis\u001b[0m \u001b[1;32mNone\u001b[0m\u001b[1;33m:\u001b[0m\u001b[1;33m\u001b[0m\u001b[0m\n\u001b[0;32m    163\u001b[0m                 \u001b[1;32mwhile\u001b[0m \u001b[1;32mnot\u001b[0m \u001b[0mself\u001b[0m\u001b[1;33m.\u001b[0m\u001b[0m_qsize\u001b[0m\u001b[1;33m(\u001b[0m\u001b[1;33m)\u001b[0m\u001b[1;33m:\u001b[0m\u001b[1;33m\u001b[0m\u001b[0m\n\u001b[1;32m--> 164\u001b[1;33m                     \u001b[0mself\u001b[0m\u001b[1;33m.\u001b[0m\u001b[0mnot_empty\u001b[0m\u001b[1;33m.\u001b[0m\u001b[0mwait\u001b[0m\u001b[1;33m(\u001b[0m\u001b[1;33m)\u001b[0m\u001b[1;33m\u001b[0m\u001b[0m\n\u001b[0m\u001b[0;32m    165\u001b[0m             \u001b[1;32melif\u001b[0m \u001b[0mtimeout\u001b[0m \u001b[1;33m<\u001b[0m \u001b[1;36m0\u001b[0m\u001b[1;33m:\u001b[0m\u001b[1;33m\u001b[0m\u001b[0m\n\u001b[0;32m    166\u001b[0m                 \u001b[1;32mraise\u001b[0m \u001b[0mValueError\u001b[0m\u001b[1;33m(\u001b[0m\u001b[1;34m\"'timeout' must be a non-negative number\"\u001b[0m\u001b[1;33m)\u001b[0m\u001b[1;33m\u001b[0m\u001b[0m\n",
      "\u001b[1;32mC:\\ProgramData\\Anaconda3\\lib\\threading.py\u001b[0m in \u001b[0;36mwait\u001b[1;34m(self, timeout)\u001b[0m\n\u001b[0;32m    293\u001b[0m         \u001b[1;32mtry\u001b[0m\u001b[1;33m:\u001b[0m    \u001b[1;31m# restore state no matter what (e.g., KeyboardInterrupt)\u001b[0m\u001b[1;33m\u001b[0m\u001b[0m\n\u001b[0;32m    294\u001b[0m             \u001b[1;32mif\u001b[0m \u001b[0mtimeout\u001b[0m \u001b[1;32mis\u001b[0m \u001b[1;32mNone\u001b[0m\u001b[1;33m:\u001b[0m\u001b[1;33m\u001b[0m\u001b[0m\n\u001b[1;32m--> 295\u001b[1;33m                 \u001b[0mwaiter\u001b[0m\u001b[1;33m.\u001b[0m\u001b[0macquire\u001b[0m\u001b[1;33m(\u001b[0m\u001b[1;33m)\u001b[0m\u001b[1;33m\u001b[0m\u001b[0m\n\u001b[0m\u001b[0;32m    296\u001b[0m                 \u001b[0mgotit\u001b[0m \u001b[1;33m=\u001b[0m \u001b[1;32mTrue\u001b[0m\u001b[1;33m\u001b[0m\u001b[0m\n\u001b[0;32m    297\u001b[0m             \u001b[1;32melse\u001b[0m\u001b[1;33m:\u001b[0m\u001b[1;33m\u001b[0m\u001b[0m\n",
      "\u001b[1;31mKeyboardInterrupt\u001b[0m: "
     ]
    }
   ],
   "source": [
    "max_epochs = 100\n",
    "vec_size = 300\n",
    "alpha = 0.025\n",
    "\n",
    "model = Doc2Vec(size= vec_size,\n",
    "               alpha = alpha,\n",
    "                min_alpha = 0.0025,\n",
    "                min_count = 1, \n",
    "                dm = 1\n",
    "               )\n",
    "\n",
    "model.build_vocab(tagged_data)\n",
    "\n",
    "for epoch in range(max_epochs):\n",
    "    print('iteration {0}'.format(epoch))\n",
    "    model.train(tagged_data,\n",
    "                total_examples=model.corpus_count,\n",
    "                epochs=model.iter)\n",
    "    # decrease the learning rate\n",
    "    model.alpha -= 0.0002\n",
    "    # fix the learning rate, no decay\n",
    "    model.min_alpha = model.alpha\n",
    "\n",
    "model.save(\"patent_test_d2v.model\")\n",
    "print(\"Model Saved\")"
   ]
  },
  {
   "cell_type": "code",
   "execution_count": 2,
   "metadata": {
    "scrolled": true
   },
   "outputs": [],
   "source": [
    "modell = Doc2Vec.load('patentd2v_model')"
   ]
  },
  {
   "cell_type": "code",
   "execution_count": 4,
   "metadata": {
    "collapsed": true
   },
   "outputs": [],
   "source": [
    "test_patent = ('''A lock for a height-adjustable crib or playpen requires two distinct manual operations in order to release \n",
    "the lock on each crib leg. Each lock includes a rigid metal bracket which engages around the extensible part o\n",
    "f the leg and is pivotally connected to a crib corner post. The bracket has a nose which projects into one of a \n",
    "series of openings in the extensible part of the leg then the bracket is swung against the leg part to prevent\n",
    "movement of the leg part relative to the post. The upper edge of the bracket is slotted to receive a latch pivotally \n",
    "connected to the corner post just above the bracket. The latch drops into the slot when the nose is engaged in one of the openings \n",
    "so that the bracket cannot be moved.''')"
   ]
  },
  {
   "cell_type": "code",
   "execution_count": 7,
   "metadata": {
    "collapsed": true
   },
   "outputs": [],
   "source": [
    "test_clean = word_tokenize(clean(test_patent))"
   ]
  },
  {
   "cell_type": "code",
   "execution_count": 8,
   "metadata": {},
   "outputs": [
    {
     "data": {
      "text/plain": [
       "['lock',\n",
       " 'height-adjustable',\n",
       " 'crib',\n",
       " 'playpen',\n",
       " 'requires',\n",
       " 'two',\n",
       " 'distinct',\n",
       " 'manual',\n",
       " 'operation',\n",
       " 'order',\n",
       " 'release',\n",
       " 'the',\n",
       " 'lock',\n",
       " 'crib',\n",
       " 'leg',\n",
       " 'lock',\n",
       " 'includes',\n",
       " 'rigid',\n",
       " 'metal',\n",
       " 'bracket',\n",
       " 'engages',\n",
       " 'around',\n",
       " 'extensible',\n",
       " 'part',\n",
       " 'leg',\n",
       " 'pivotally',\n",
       " 'connected',\n",
       " 'crib',\n",
       " 'corner',\n",
       " 'post',\n",
       " 'bracket',\n",
       " 'nose',\n",
       " 'project',\n",
       " 'one',\n",
       " 'series',\n",
       " 'opening',\n",
       " 'extensible',\n",
       " 'part',\n",
       " 'leg',\n",
       " 'bracket',\n",
       " 'swung',\n",
       " 'leg',\n",
       " 'part',\n",
       " 'prevent',\n",
       " 'movement',\n",
       " 'leg',\n",
       " 'part',\n",
       " 'relative',\n",
       " 'post',\n",
       " 'upper',\n",
       " 'edge',\n",
       " 'bracket',\n",
       " 'slotted',\n",
       " 'receive',\n",
       " 'latch',\n",
       " 'pivotally',\n",
       " 'connected',\n",
       " 'corner',\n",
       " 'post',\n",
       " 'bracket',\n",
       " 'latch',\n",
       " 'drop',\n",
       " 'slot',\n",
       " 'nose',\n",
       " 'engaged',\n",
       " 'one',\n",
       " 'opening',\n",
       " 'bracket',\n",
       " 'can',\n",
       " 'not',\n",
       " 'moved']"
      ]
     },
     "execution_count": 8,
     "metadata": {},
     "output_type": "execute_result"
    }
   ],
   "source": [
    "test_clean"
   ]
  },
  {
   "cell_type": "code",
   "execution_count": 11,
   "metadata": {
    "collapsed": true
   },
   "outputs": [
    {
     "name": "stdout",
     "output_type": "stream",
     "text": [
      "V1_infer [ -3.96660306e-02   1.66998692e-02  -1.08166777e-01   1.12937242e-01\n",
      "  -2.81128854e-01   9.43073258e-02  -1.01115238e-02  -4.07120809e-02\n",
      "  -1.50741175e-01   1.29770204e-01  -3.98794152e-02  -1.27012193e-01\n",
      "   6.49911165e-02   2.02479929e-01   1.73687577e-01  -2.29176372e-01\n",
      "  -5.26362546e-02  -5.44692874e-02   9.27926451e-02  -7.23105893e-02\n",
      "  -3.69648486e-02  -6.89362809e-02  -1.31452113e-01   2.25270331e-01\n",
      "  -2.27699608e-01  -7.20152184e-02   1.16083147e-02   2.78145298e-02\n",
      "  -2.55966578e-02  -5.82129240e-01   3.23467821e-01  -2.22025484e-01\n",
      "  -1.67734534e-01  -1.48489133e-01  -1.58060744e-01  -6.17329404e-02\n",
      "   2.28977367e-01   3.48583795e-02  -1.73888937e-01   2.64412940e-01\n",
      "   8.88824016e-02  -1.77263990e-01  -3.02927122e-02   2.53726840e-01\n",
      "   1.19511388e-01   2.06096336e-01  -7.25827888e-02   1.84041813e-01\n",
      "   2.40855217e-01  -1.01044672e-02   3.53014395e-02  -1.59615144e-01\n",
      "   3.10161769e-01  -3.67261246e-02  -9.50097218e-02  -9.54128355e-02\n",
      "  -2.27135420e-02   2.10288808e-01  -3.63382362e-02   1.15575649e-01\n",
      "   1.33691847e-01  -1.43352039e-02   1.59471616e-01   2.38516763e-01\n",
      "  -4.32313682e-04   2.58502841e-01   1.79036241e-02   1.16216958e-01\n",
      "   8.61441866e-02   1.75348222e-02  -3.63080613e-02  -4.17712890e-02\n",
      "   7.09910393e-02  -9.65505317e-02   7.90824145e-02  -1.24027133e-01\n",
      "  -1.69883996e-01   7.45280907e-02   1.53506592e-01  -6.08318858e-02\n",
      "  -1.12659454e-01  -8.65277424e-02  -2.02203348e-01   1.48710147e-01\n",
      "  -1.28114000e-01   6.27516806e-02  -2.05969155e-01  -5.04430849e-03\n",
      "   1.95181385e-01  -3.60676423e-02   1.83415830e-01  -7.79167265e-02\n",
      "   1.87528551e-01   1.10300981e-01  -1.59892261e-01   2.04534829e-01\n",
      "   1.29090503e-01   1.94129840e-01  -3.08182418e-01  -5.21175601e-02\n",
      "  -8.51643085e-02  -2.47920118e-02  -1.00112624e-01   4.15851623e-02\n",
      "   1.27694517e-01   2.73902029e-01   2.17709064e-01   1.14674531e-01\n",
      "   7.56784752e-02   1.28683269e-01  -1.79910481e-01   1.56731606e-01\n",
      "  -3.19153778e-02  -1.74872980e-01   1.16422549e-01  -2.44591132e-01\n",
      "  -4.43074964e-02  -5.48983626e-02   7.27586746e-02  -1.37514602e-02\n",
      "   2.47575983e-01   4.02476564e-02   2.49626711e-01  -1.56293720e-01\n",
      "   3.25427502e-01   2.27633081e-02  -1.40699148e-01   8.94479975e-02\n",
      "  -4.46777940e-01   2.42833912e-01   8.26579705e-02   1.56626046e-01\n",
      "  -5.95328510e-02  -2.99157239e-02  -9.75338146e-02   1.16063982e-01\n",
      "   1.14942133e-01  -1.22466065e-01  -1.43936295e-02  -1.06969560e-02\n",
      "  -1.76793426e-01  -2.14129612e-01   1.07526079e-01  -9.41090360e-02\n",
      "  -1.40743423e-02  -1.50712347e-02   1.14649422e-01   4.44200188e-02\n",
      "   8.27304274e-02   8.85922238e-02  -9.67118423e-03  -1.58464760e-02\n",
      "   1.09998651e-01   7.95296431e-02  -1.22745186e-02  -9.34513956e-02\n",
      "  -1.27321929e-01  -4.09845263e-02  -6.78992271e-02  -1.18966430e-01\n",
      "  -1.77395016e-01  -2.33690381e-01  -8.37273449e-02  -7.74464235e-02\n",
      "   2.65115150e-03   1.40975133e-01  -1.16991833e-01  -1.17056496e-01\n",
      "  -1.21592104e-01  -6.03890186e-03  -2.53821105e-01   1.40688837e-01\n",
      "  -1.26716614e-01   2.24369988e-01  -1.04324505e-01  -2.40999356e-01\n",
      "   3.46635222e-01  -1.53909311e-01  -1.42886281e-01   8.34283009e-02\n",
      "   1.89145178e-01  -2.99898416e-01  -1.78908497e-01  -1.10453077e-01\n",
      "   6.65865466e-02   2.07215920e-01   1.89547479e-01  -7.70603046e-02\n",
      "  -1.54144451e-01   2.34908730e-01  -3.16268414e-01  -3.03975660e-02\n",
      "  -1.29508674e-01  -1.30262017e-01   2.06843521e-02  -3.39104503e-01\n",
      "  -5.16237170e-02   1.05398022e-01   6.43919557e-02  -1.67055000e-02\n",
      "  -2.28713080e-02  -6.64962903e-02  -1.15990497e-01   3.93689005e-03\n",
      "   3.39779146e-02   1.22387828e-02   2.77756363e-01   3.44204232e-02\n",
      "  -1.83018714e-01   2.35771254e-01  -1.41722262e-01   4.92770150e-02\n",
      "   3.59664336e-02  -3.18664797e-02   6.74052238e-02  -3.31573337e-02\n",
      "   5.88421151e-02   1.55655481e-02  -1.68839842e-01  -3.21462423e-01\n",
      "   5.90820191e-03   5.38374856e-02   3.03346276e-01  -3.46865207e-02\n",
      "  -3.37146968e-02   9.30312574e-02   7.36032501e-02   1.79060996e-01\n",
      "   5.45058353e-03   3.78871560e-01   5.25584444e-02   2.48851076e-01\n",
      "   1.41355544e-01  -3.00486926e-02   8.52389783e-02   8.22174028e-02\n",
      "  -2.58750897e-02   4.11988199e-02  -1.27468660e-01  -8.52299854e-02\n",
      "   2.27648154e-01  -9.35541391e-02  -4.45426889e-02   1.80787995e-01\n",
      "   5.20631932e-02   4.70438935e-02   5.19192852e-02   5.54134697e-02\n",
      "   3.02565098e-01   2.42605880e-02   1.10871330e-01  -1.28352374e-01\n",
      "  -1.26778468e-01  -1.71758775e-02   6.74532577e-02   1.17200062e-01\n",
      "   1.83217898e-01  -2.42497027e-01  -1.31258741e-01  -1.14057168e-01\n",
      "   7.70659968e-02   1.26905605e-01  -1.33642286e-01  -1.86009228e-01\n",
      "  -1.53082937e-01   1.80248059e-02   9.63157043e-02   1.74215555e-01\n",
      "  -3.03345621e-01  -5.80012426e-02   1.39211580e-01  -3.43690328e-02\n",
      "   3.96032743e-02   7.27306381e-02   1.14452036e-03   2.70627439e-01\n",
      "  -1.48530006e-02  -5.44800721e-02  -3.08764309e-01   1.88630074e-01\n",
      "  -1.22951865e-02  -7.64767528e-02  -9.87897292e-02  -7.55430199e-03\n",
      "  -1.43723622e-01   5.12495153e-02   3.22126709e-02   9.19169113e-02\n",
      "  -3.77896637e-01   9.25919041e-02  -6.33852333e-02  -8.44060704e-02\n",
      "  -2.90577263e-02  -1.02548294e-01  -1.74477790e-02   9.24962386e-02\n",
      "  -1.80132031e-01  -1.11552149e-01  -1.34532511e-01  -1.25686571e-01]\n"
     ]
    }
   ],
   "source": [
    "v1 = modell.infer_vector(test_clean)\n",
    "print(\"V1_infer\", v1)\n",
    "\n",
    "\n"
   ]
  },
  {
   "cell_type": "code",
   "execution_count": 13,
   "metadata": {},
   "outputs": [
    {
     "name": "stdout",
     "output_type": "stream",
     "text": [
      "[('306', 0.4959915578365326), ('123', 0.4942142367362976), ('76', 0.4361250698566437), ('41', 0.4006164073944092), ('222', 0.3942888379096985), ('4931', 0.3793490529060364), ('230', 0.3686369061470032), ('5500', 0.3670188784599304), ('5153', 0.36132562160491943), ('4270', 0.35854288935661316)]\n"
     ]
    }
   ],
   "source": [
    "# to find most similar doc using tags\n",
    "similar_doc = modell.docvecs.most_similar('1')\n",
    "print(similar_doc)"
   ]
  },
  {
   "cell_type": "code",
   "execution_count": 18,
   "metadata": {},
   "outputs": [
    {
     "data": {
      "text/plain": [
       "'Apparatus for heating a window A grid of heating conductors for defrosting applied to the window of a vehicle is connected to a source of electrical energy through a relay-operated switch. This switch is closed either in response to a drop in the resistance between two conductors or electrodes mounted in spaced relation on an insulatingort such as the window (the drop occurring by accumulation of moisture on theort and between the conductors) or in response to a drop in temperature at or near the window. For this purpose the resistance between the two conductors over the surface of theort may be paralleled by a thermostatic switch which closes with drop in temperature, both this resistance and the thermostatic switch being in the input to a trigger circuit controlling the relay to energize it in response to a decline in resistance at that input. Alternatively the trigger circuit may include thermistors which sense the drop in temperature and set the trigger circuit to the condition which energizes the relay. Apparatus for heating a vehicle window comprising a plurality of heating conductors applied to the window, a switch for connection of said conductors to a source of electrical energy, first means to close said switch in response to the presence of water at a first location adjacent the window, and second means at a second location to close said switch, independently of the operation of said first means, upon appearance of a temperature below a specified value at said second location, wherein said second location is inside the vehicle at a region sheltered from the space heater of the vehicle and which reflects the temperature existing in the vicinity of said window.,Apparatus for heating a vehicle window comprising a plurality of heating conductors applied to the window, a switch for connection of said conductors to a source of electrical energy, first means to close said switch in response to the presence of water at a first location adjacent the window, and second means at a second location in said vehicle to close said switch upon appearance of a temperature below a specified value at said second location, said second location being one which is sheltered from the space heater of the vehicle, being one which is adjacent an outer all of the vehicle, and being one where the atmospheric conditions reflect those existing in the vicinity of the window which bears the conductors.,Apparatus according to claim 2 wherein said first means comprise two electrodes disposed in spaced apart relation on an insulatingort and means responsive to a decline in the resistance between said conductors to close said switch.,Apparatus according to claim 3 wherein said electrodes are disposed on the surface of said window facing the inside of the vehicle.,Apparatus according to claim 3 wherein said second means to close said switch comprise a thermostatic switch.,Apparatus according to claim 5 wherein said thermostatic switch is connected in parallel with said two electrodes.,Apparatus according to claim 6 wherein said electrodes and thermostatic switch are connected in the input circuit of an amplifier controlling said first-named switch.,Apparatus according to claim 3 wherein said means responsive to a decline in resistance include an amplifier receiving as input a signal varying inversely in amplitude with the value of said resistance and having its output connected to control said first-named switch, and wherein said second means to close said first-named switch comprise at least one resistor having a large temperature coefficient of resistivity connected with said amplifier to vary the gain thereof inversely with the temperature of said resistor.,Apparatus according to claim 3 wherein said means responsive to a decline in resistance includes an amplifier receiving as input a signal varying inversely with the value of said resistance and having its output connected to control said first-named switch, and wherein said second means to control said first-named switch comprises a thermistor of positive temperature coefficient, a thermistor of negative temperature coefficient, and means connecting said thermistors into a feedback loop of said amplifier.'"
      ]
     },
     "execution_count": 18,
     "metadata": {},
     "output_type": "execute_result"
    }
   ],
   "source": [
    "input_data7['combined'].iloc[1]"
   ]
  },
  {
   "cell_type": "code",
   "execution_count": 20,
   "metadata": {},
   "outputs": [
    {
     "data": {
      "text/plain": [
       "'Electrically heated vehicle window A humidity-responsive heating circuit for a window of an automotive vehicle includes a grid of heating conductors on the window and two conductors closely approaching each other on the surface of the window such that the resistance between them changes, upon the appearance of humidity bridging the space between them, sufficiently to provide a signal. All of the conductors are composed of the same paste having the same properties and are applied as a single baked, silk screen printed pattern. The circuit may further include a switch to apply a voltage between those two conductors, amplifying means responsive to change of resistance between them, and a relay controlled by the amplifying means for connection of the heating grid to a source of voltage. Apparatus for heating a glass window comprising, on the inside surface of a window, a plurality of spaced electrical resistance heating conductors connected between bus bars and at least one additional conductor on said surface closely spaced from an adjacent conductor on said surface, said conductors and bus bars being composed of the same paste of finely divided metallic particles suspended in a frit applied to the glass in a single step by a silk screen process and baked to the surface of the glass to define a baked, silk screen printed pattern on said surface, said apparatus further comprising a switch for controlled the application of a voltage between said bus bars, and control means including means for sensing the electrical resistance between said additional conductor and said adjacent conductor and means responsive to a decline in said electrical resistance due to the presence of moisture on said window surface between said additional conductor and said adjacent conductor for closing said switch to energize said heating conductors.,A window according to claim 1 in which the spacing between said additional conductor and said adjacent conductor is of the order of 1 millimeter.,Apparatus according to claim 1 wherein the surface of the window between said additional conductor and adjacent conductor is treated to render it hydrophilic.,Apparatus according to claim 1 wherein the surface of the window between said additional conductor and adjacent conductor is sand-blasted to render said surface hydrophilic.,Apparatus according to claim 1 wherein said control means includes means to apply a voltage between said additional conductor and said adjacent conductor and an amplifier having the resistance between said additional conductor and adjacent conductor connected in its input and wherein said switch is actuated by a relay having an actuating coil connected in the output of said amplifier.,Apparatus according to claim 1 wherein the surface of the window between said additional conductor and said adjacent conductor is within the area heated by said heating conductors.,Apparatus according to claim 1 wherein said additional conductor and said adjacent conductor each comprise a plurality of conducting lines interdigitated between the conducting lines of the other.,Apparatus for heating a glass window comprising, on the inside surface of a window, a plurality of spaced electrical resistance heating conductors connected between bus bars and at least one additional conductor on said surface closely spaced from an adjacent conductor on said surface, said conductors and bus bars being composed of the same paste of finely divided metallic particles suspended in a frit applied to the glass as a single silk screen pattern baked to the surface of the glass, said apparatus further comprising a switch for controlling the application of a voltage between said bus bars, and control means including means for sensing the electrical resistance between said additional conductor and said adjacent conductor and means responsive to a decline in said resistance due to the presence of moisture on said window surface between said additional conductor and said adjacent conductor for closing said switch to energize said heating conductors.,Apparatus for heating a glass window for a vehicle comprising: a sheet of glass, a plurality of electrical resistance heating conductors extending across the glass on the inside surfaces thereof from one side thereof to the other, first and second bus bars at the sides of the glass on the inside surface thereof between which said heating conductors are connected, at least one additional conductor on said surface extending part way across said surface from said one side of said glass and connected to the bus bar located at said one side, an adjacent conductor on said surface and extending part way thereacross from the other side of the glass and into closely spaced overlapping relation with the additional conductor, and a third bus bar at the other side of the glass separate from the first and second bus bars and connected to the adjacent conductor, all of said conductors extending across said glass in a generally spaced parallel relation with each other, said conductors and bus bars being composed of the same paste of finely divided metallic particles suspended in a frit and defining a baked, silk screen printed pattern on said surface, said apparatus further comprising means for connecting the bus bars to a source of power, a switch for controlling the application of a voltage between the first and second bus bars, and control means including means for sensing the electrical resistance between the overlapped portions of the additional conductor and the adjacent conductor and means responsive to the decline in said resistance due to the presence of moisture on said window surface between said overlapped portions for closing said switch to energize said heating conductors.'"
      ]
     },
     "execution_count": 20,
     "metadata": {},
     "output_type": "execute_result"
    }
   ],
   "source": [
    "input_data7['combined'].iloc[306]"
   ]
  },
  {
   "cell_type": "code",
   "execution_count": 21,
   "metadata": {},
   "outputs": [
    {
     "data": {
      "text/plain": [
       "'Control system for vehicle window heater Apparatus for controllably heating a vehicle window having a heating grid is described including an oscillator and a signal detector, with a signal circuit coupling the oscillator and the signal detector having a DC voltage component at one or more points thereof. One or more humidity detectors are coupled to the signal circuit to control the amplitude of the oscillationslied from the oscillator to the signal detector, advantageously by voltage divider action, and capacitor means provides DC isolation between the humidity detector(s) and any DC voltage component in the signal circuit, and also between humidity detectors when a plurality are used. Advantageously the humidity detector(s) are directly connected to the heating grid, and varying DC voltage levels at the point(s) of connection to the grid are isolated by the capacitor means. Particular arrangements of the humidity detectors on the window and connections to the heating grid are described. Apparatus for heating a vehicle window comprising a heating grid for said window, a switch for connection of said grid to a source of electrical energy, an oscillator and a signal detector, a signal circuit for coupling the output of said oscillator to the input of said signal detector, said signal circuit having a DC voltage component at at least one point thereof, a humidity detector having a pair of spaced apart conductors disposed on the window, one of said conductors being connected directly to a point of said heating grid which is at different DC voltages when said switch is opened and closed respectively, coupling means for AC coupling the other conductor of said pair to said signal circuit to control the amplitude of oscillationslied from said oscillator to said signal detector in response to variation of the impedance between said conductors, said coupling means including capacitor means for providing DC isolation between said humidity detector and any DC voltage component in said signal circuit, and means responsive to the output of said signal detector for actuating said switch.,Apparatus according to claim 1 in which said coupling means includes a pair of capacitors connected in series in said signal circuit between said oscillator and said signal detector and a connection from said other conductor of said humidity detector to the common point between said pair of capacitors.,Apparatus according to claim 1 in which said coupling means includes a series capacitor connected between said humidity detector and said signal circuit.,Apparatus according to claim 1 in which said signal circuit includes a pre-amplifier connected between said oscillator and said signal detector and a resistor connected in the output circuit of the oscillator, said coupling means connecting said humidity detector in series with said resistor to form a voltage divider between the output of the oscillator and the input of the pre-amplifier.,Apparatus according to claim 1 including a thermostatic switch connected in AC parallel with said humidity detector and DC isolated therefrom.,Apparatus according to claim 1 including a plurality of humidity detectors, said coupling means AC coupling said humidity detectors to said signal circuit with DC isolation between the humidity detectors and between the humidity detectors and any DC voltage component in said signal circuit.,Apparatus according to claim 6 in which said plurality of humidity detectors are connected between different points of said heating grid having different DC voltage levels when the grid is energized, and said signal circuit.'"
      ]
     },
     "execution_count": 21,
     "metadata": {},
     "output_type": "execute_result"
    }
   ],
   "source": [
    "input_data7['combined'].iloc[123]"
   ]
  },
  {
   "cell_type": "code",
   "execution_count": null,
   "metadata": {
    "collapsed": true
   },
   "outputs": [],
   "source": []
  }
 ],
 "metadata": {
  "kernelspec": {
   "display_name": "Python 3",
   "language": "python",
   "name": "python3"
  },
  "language_info": {
   "codemirror_mode": {
    "name": "ipython",
    "version": 3
   },
   "file_extension": ".py",
   "mimetype": "text/x-python",
   "name": "python",
   "nbconvert_exporter": "python",
   "pygments_lexer": "ipython3",
   "version": "3.6.1"
  }
 },
 "nbformat": 4,
 "nbformat_minor": 2
}
