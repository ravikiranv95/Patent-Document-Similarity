{
 "cells": [
  {
   "cell_type": "code",
   "execution_count": 44,
   "metadata": {
    "collapsed": true
   },
   "outputs": [],
   "source": [
    "from gensim.models.doc2vec import  Doc2Vec, TaggedDocument\n",
    "from nltk import word_tokenize\n",
    "import pandas as pd  \n",
    "import string \n",
    "import numpy as np\n",
    "\n",
    "\n",
    "from nltk.corpus import stopwords\n",
    "stop_words = set(stopwords.words('english'))"
   ]
  },
  {
   "cell_type": "code",
   "execution_count": 2,
   "metadata": {
    "collapsed": true
   },
   "outputs": [],
   "source": [
    "input_data7 = pd.read_csv('input_data7.csv', header = 0,\n",
    "                          usecols= ['patent_id', 'combined'],\n",
    "                          dtype = {'patent_id':object},\n",
    "                          encoding = 'ISO-8859-1')"
   ]
  },
  {
   "cell_type": "code",
   "execution_count": 3,
   "metadata": {
    "collapsed": true
   },
   "outputs": [],
   "source": [
    "my_columns = input_data7['patent_id'].tolist() # create patent list\n",
    "corpus = input_data7['combined'].tolist()\n",
    "patent_numbers = '|'.join(my_columns)"
   ]
  },
  {
   "cell_type": "code",
   "execution_count": 3,
   "metadata": {
    "collapsed": true
   },
   "outputs": [],
   "source": [
    "#preprocessing \n",
    "\n",
    "\n",
    "patent_terms = pd.read_csv('patent_terms.csv', encoding = 'ISO-8859-1')\n",
    "patent_terms = patent_terms.rename(columns={0:'terms'})\n",
    "patent_terms_append = ['claim','claimed','according','selected','comprising','consisting','means','le','wt','group','thereof','weight']\n",
    "patent_terms = patent_terms.append(pd.DataFrame(patent_terms_append, columns=['terms']), ignore_index=True)\n",
    "patent_terms = patent_terms.drop_duplicates()\n",
    "patent_terms.to_csv('patent_terms.csv', index=False)\n",
    "\n",
    "jargon = set(patent_terms.iloc[:, 0])  # build a \"patent jargon\" lexical\n",
    "''' jargon removes word \"containing\", we want to weigh lignosulfonate which follows!'''\n",
    "\n",
    "## Punctuation\n",
    "# nltk.download('punkt')\n",
    "punctuations = set(string.punctuation)\n",
    "punctuations.remove('-') # maybe remove hyphens\n",
    "#punctuations.remove('/')\n",
    "\n",
    "from nltk.stem.wordnet import WordNetLemmatizer\n",
    "lemma = WordNetLemmatizer()\n",
    "word_len = 2\n",
    "def clean(doc):\n",
    "    number_free = ''.join([c for c in doc if c not in \"1234567890\"])\n",
    "    words = [word.strip(string.punctuation) for word in number_free.split(\" \")]\n",
    "    filtered = [f for f in words if f and f.lower() not in stop_words]\n",
    "    undo = \"\".join([\" \"+i if not i.startswith(\"'\") and i not in string.punctuation else i for i in filtered]).strip()\n",
    "    punc_free = ''.join(ch for ch in undo if ch not in punctuations)\n",
    "    smallword_free = ' '.join([w for w in punc_free.split() if len(w) > word_len])\n",
    "    lemmatized = \" \".join(lemma.lemmatize(word) for word in smallword_free.split())\n",
    "    jargon_free = \" \" .join([j for j in lemmatized.lower().split() if j not in jargon])\n",
    "    return jargon_free"
   ]
  },
  {
   "cell_type": "code",
   "execution_count": 6,
   "metadata": {
    "collapsed": true,
    "scrolled": false
   },
   "outputs": [],
   "source": [
    "corpus_clean = [clean(doc) for doc in corpus] # list of sentance strings\n",
    "#corpus_tokenize = [clean(doc).split() for doc in corpus]  # list of string words"
   ]
  },
  {
   "cell_type": "code",
   "execution_count": 81,
   "metadata": {},
   "outputs": [
    {
     "data": {
      "text/plain": [
       "'plywood adhesive phenolic plywood adhesive containing lignosulfonates trialkyl phosphate alkyltituents carbon atom use curtain coater described process applying phenol-formaldehyde resin adhesive containing amylaceous proteinaceous material plywood veneer using curtain coater improvement comprises adding least percent based upon weight phenol-formaldehyde resin said adhesive sodium base lignosulfonate percent based upon weight phenol-formaldehyde resin trialkyl phosphate alkyltituents carbon atomsa process according claim wherein trialkyl phosphate tributyl phosphatea process according claim wherein sodium base lignosulfonate added amount weight percenta process according claim wherein trialkyl phosphate tributyl phosphate added amount percenta process according claim wherein sodium lignosulfonate added phenol formaldehyde mixture condensation phenol formaldehyde preparation phenol-formaldehyde resina process according claim wherein lignosulfonate added amount weight percent trialkyl phosphate tributyl phosphate added amount percenta process according claim wherein sodium base lignosulfonate sodium base spent sulfite liquora process according claim wherein phenol-formaldehyde resin condensed mole ratio mole formaldehyde per mole phenolin phenol-formaldehyde plywood adhesive containing amylaceous proteinaceous material plywood veneer using curtain coater improvement comprises adding least percent based upon weight phenol-formaldehyde resin said adhesive sodium base lignosulfonate percent based upon weight phenol-formaldehyde resin trialkyl phosphate alkyltituents carbon atomsan adhesive composition according claim wherein sodium base lignosulfonate added amount weight percent phenol formaldehyde mixture condensation phenol formaldehyde preparation phenol-formaldehyde resin trialkyl phosphate tributyl phosphate added amount percent'"
      ]
     },
     "execution_count": 81,
     "metadata": {},
     "output_type": "execute_result"
    }
   ],
   "source": [
    "corpus_clean[0]"
   ]
  },
  {
   "cell_type": "code",
   "execution_count": 82,
   "metadata": {
    "collapsed": true
   },
   "outputs": [],
   "source": [
    "#data = data_df['combined'].tolist()"
   ]
  },
  {
   "cell_type": "code",
   "execution_count": 83,
   "metadata": {
    "collapsed": true
   },
   "outputs": [],
   "source": [
    "tagged_data = [TaggedDocument(words= word_tokenize(_d.lower()), tags = [str(i)])\n",
    "              for i, _d in enumerate(corpus_clean)]\n",
    "\n",
    "#Need to figure out how to make the patent ID the document tag\n",
    "# tagged_data = [TaggedDocument(words= word_tokenize(_d.lower()), tags = [str(i)])\n",
    "#               for i, _d in enumerate(data)]\n",
    "\n",
    "\n",
    "\n",
    "\n",
    "\n",
    "\n"
   ]
  },
  {
   "cell_type": "code",
   "execution_count": null,
   "metadata": {
    "collapsed": true
   },
   "outputs": [],
   "source": [
    "len(tagged_data)"
   ]
  },
  {
   "cell_type": "markdown",
   "metadata": {},
   "source": [
    "## Training the model"
   ]
  },
  {
   "cell_type": "code",
   "execution_count": null,
   "metadata": {
    "collapsed": true
   },
   "outputs": [],
   "source": [
    "max_epochs = 100\n",
    "vec_size = 300\n",
    "alpha = 0.025\n",
    "\n",
    "model = Doc2Vec(size= vec_size,\n",
    "               alpha = alpha,\n",
    "                min_alpha = 0.0025,\n",
    "                min_count = 1, \n",
    "                dm = 1\n",
    "               )\n",
    "\n",
    "model.build_vocab(tagged_data)\n",
    "\n",
    "for epoch in range(max_epochs):\n",
    "    print('iteration {0}'.format(epoch))\n",
    "    model.train(tagged_data,\n",
    "                total_examples=model.corpus_count,\n",
    "                epochs=model.iter)\n",
    "    # decrease the learning rate\n",
    "    model.alpha -= 0.0002\n",
    "    # fix the learning rate, no decay\n",
    "    model.min_alpha = model.alpha\n",
    "\n",
    "model.save(\"patentd2v_model\")\n",
    "print(\"Model Saved\")"
   ]
  },
  {
   "cell_type": "markdown",
   "metadata": {},
   "source": [
    "## Load saved model"
   ]
  },
  {
   "cell_type": "code",
   "execution_count": 45,
   "metadata": {
    "collapsed": true,
    "scrolled": true
   },
   "outputs": [],
   "source": [
    "modell = Doc2Vec.load('patentd2v_model')"
   ]
  },
  {
   "cell_type": "code",
   "execution_count": 46,
   "metadata": {
    "scrolled": true
   },
   "outputs": [
    {
     "name": "stdout",
     "output_type": "stream",
     "text": [
      "[('306', 0.4959915578365326), ('123', 0.4942142367362976), ('76', 0.4361250698566437), ('41', 0.4006164073944092), ('222', 0.3942888379096985), ('4931', 0.3793490529060364), ('230', 0.3686369061470032), ('5500', 0.3670188784599304), ('5153', 0.36132562160491943), ('4270', 0.35854288935661316)]\n"
     ]
    }
   ],
   "source": [
    "# to find most similar doc using tags\n",
    "similar_doc = modell.docvecs.most_similar(\"1\")\n",
    "print(similar_doc)"
   ]
  },
  {
   "cell_type": "code",
   "execution_count": 6,
   "metadata": {},
   "outputs": [
    {
     "data": {
      "text/plain": [
       "'Apparatus for heating a window A grid of heating conductors for defrosting applied to the window of a vehicle is connected to a source of electrical energy through a relay-operated switch. This switch is closed either in response to a drop in the resistance between two conductors or electrodes mounted in spaced relation on an insulatingort such as the window (the drop occurring by accumulation of moisture on theort and between the conductors) or in response to a drop in temperature at or near the window. For this purpose the resistance between the two conductors over the surface of theort may be paralleled by a thermostatic switch which closes with drop in temperature, both this resistance and the thermostatic switch being in the input to a trigger circuit controlling the relay to energize it in response to a decline in resistance at that input. Alternatively the trigger circuit may include thermistors which sense the drop in temperature and set the trigger circuit to the condition which energizes the relay. Apparatus for heating a vehicle window comprising a plurality of heating conductors applied to the window, a switch for connection of said conductors to a source of electrical energy, first means to close said switch in response to the presence of water at a first location adjacent the window, and second means at a second location to close said switch, independently of the operation of said first means, upon appearance of a temperature below a specified value at said second location, wherein said second location is inside the vehicle at a region sheltered from the space heater of the vehicle and which reflects the temperature existing in the vicinity of said window.,Apparatus for heating a vehicle window comprising a plurality of heating conductors applied to the window, a switch for connection of said conductors to a source of electrical energy, first means to close said switch in response to the presence of water at a first location adjacent the window, and second means at a second location in said vehicle to close said switch upon appearance of a temperature below a specified value at said second location, said second location being one which is sheltered from the space heater of the vehicle, being one which is adjacent an outer all of the vehicle, and being one where the atmospheric conditions reflect those existing in the vicinity of the window which bears the conductors.,Apparatus according to claim 2 wherein said first means comprise two electrodes disposed in spaced apart relation on an insulatingort and means responsive to a decline in the resistance between said conductors to close said switch.,Apparatus according to claim 3 wherein said electrodes are disposed on the surface of said window facing the inside of the vehicle.,Apparatus according to claim 3 wherein said second means to close said switch comprise a thermostatic switch.,Apparatus according to claim 5 wherein said thermostatic switch is connected in parallel with said two electrodes.,Apparatus according to claim 6 wherein said electrodes and thermostatic switch are connected in the input circuit of an amplifier controlling said first-named switch.,Apparatus according to claim 3 wherein said means responsive to a decline in resistance include an amplifier receiving as input a signal varying inversely in amplitude with the value of said resistance and having its output connected to control said first-named switch, and wherein said second means to close said first-named switch comprise at least one resistor having a large temperature coefficient of resistivity connected with said amplifier to vary the gain thereof inversely with the temperature of said resistor.,Apparatus according to claim 3 wherein said means responsive to a decline in resistance includes an amplifier receiving as input a signal varying inversely with the value of said resistance and having its output connected to control said first-named switch, and wherein said second means to control said first-named switch comprises a thermistor of positive temperature coefficient, a thermistor of negative temperature coefficient, and means connecting said thermistors into a feedback loop of said amplifier.'"
      ]
     },
     "execution_count": 6,
     "metadata": {},
     "output_type": "execute_result"
    }
   ],
   "source": [
    "input_data7['combined'].iloc[1]"
   ]
  },
  {
   "cell_type": "code",
   "execution_count": 7,
   "metadata": {},
   "outputs": [
    {
     "data": {
      "text/plain": [
       "'Electrically heated vehicle window A humidity-responsive heating circuit for a window of an automotive vehicle includes a grid of heating conductors on the window and two conductors closely approaching each other on the surface of the window such that the resistance between them changes, upon the appearance of humidity bridging the space between them, sufficiently to provide a signal. All of the conductors are composed of the same paste having the same properties and are applied as a single baked, silk screen printed pattern. The circuit may further include a switch to apply a voltage between those two conductors, amplifying means responsive to change of resistance between them, and a relay controlled by the amplifying means for connection of the heating grid to a source of voltage. Apparatus for heating a glass window comprising, on the inside surface of a window, a plurality of spaced electrical resistance heating conductors connected between bus bars and at least one additional conductor on said surface closely spaced from an adjacent conductor on said surface, said conductors and bus bars being composed of the same paste of finely divided metallic particles suspended in a frit applied to the glass in a single step by a silk screen process and baked to the surface of the glass to define a baked, silk screen printed pattern on said surface, said apparatus further comprising a switch for controlled the application of a voltage between said bus bars, and control means including means for sensing the electrical resistance between said additional conductor and said adjacent conductor and means responsive to a decline in said electrical resistance due to the presence of moisture on said window surface between said additional conductor and said adjacent conductor for closing said switch to energize said heating conductors.,A window according to claim 1 in which the spacing between said additional conductor and said adjacent conductor is of the order of 1 millimeter.,Apparatus according to claim 1 wherein the surface of the window between said additional conductor and adjacent conductor is treated to render it hydrophilic.,Apparatus according to claim 1 wherein the surface of the window between said additional conductor and adjacent conductor is sand-blasted to render said surface hydrophilic.,Apparatus according to claim 1 wherein said control means includes means to apply a voltage between said additional conductor and said adjacent conductor and an amplifier having the resistance between said additional conductor and adjacent conductor connected in its input and wherein said switch is actuated by a relay having an actuating coil connected in the output of said amplifier.,Apparatus according to claim 1 wherein the surface of the window between said additional conductor and said adjacent conductor is within the area heated by said heating conductors.,Apparatus according to claim 1 wherein said additional conductor and said adjacent conductor each comprise a plurality of conducting lines interdigitated between the conducting lines of the other.,Apparatus for heating a glass window comprising, on the inside surface of a window, a plurality of spaced electrical resistance heating conductors connected between bus bars and at least one additional conductor on said surface closely spaced from an adjacent conductor on said surface, said conductors and bus bars being composed of the same paste of finely divided metallic particles suspended in a frit applied to the glass as a single silk screen pattern baked to the surface of the glass, said apparatus further comprising a switch for controlling the application of a voltage between said bus bars, and control means including means for sensing the electrical resistance between said additional conductor and said adjacent conductor and means responsive to a decline in said resistance due to the presence of moisture on said window surface between said additional conductor and said adjacent conductor for closing said switch to energize said heating conductors.,Apparatus for heating a glass window for a vehicle comprising: a sheet of glass, a plurality of electrical resistance heating conductors extending across the glass on the inside surfaces thereof from one side thereof to the other, first and second bus bars at the sides of the glass on the inside surface thereof between which said heating conductors are connected, at least one additional conductor on said surface extending part way across said surface from said one side of said glass and connected to the bus bar located at said one side, an adjacent conductor on said surface and extending part way thereacross from the other side of the glass and into closely spaced overlapping relation with the additional conductor, and a third bus bar at the other side of the glass separate from the first and second bus bars and connected to the adjacent conductor, all of said conductors extending across said glass in a generally spaced parallel relation with each other, said conductors and bus bars being composed of the same paste of finely divided metallic particles suspended in a frit and defining a baked, silk screen printed pattern on said surface, said apparatus further comprising means for connecting the bus bars to a source of power, a switch for controlling the application of a voltage between the first and second bus bars, and control means including means for sensing the electrical resistance between the overlapped portions of the additional conductor and the adjacent conductor and means responsive to the decline in said resistance due to the presence of moisture on said window surface between said overlapped portions for closing said switch to energize said heating conductors.'"
      ]
     },
     "execution_count": 7,
     "metadata": {},
     "output_type": "execute_result"
    }
   ],
   "source": [
    "input_data7['combined'].iloc[306]"
   ]
  },
  {
   "cell_type": "code",
   "execution_count": 8,
   "metadata": {},
   "outputs": [
    {
     "data": {
      "text/plain": [
       "'Control system for vehicle window heater Apparatus for controllably heating a vehicle window having a heating grid is described including an oscillator and a signal detector, with a signal circuit coupling the oscillator and the signal detector having a DC voltage component at one or more points thereof. One or more humidity detectors are coupled to the signal circuit to control the amplitude of the oscillationslied from the oscillator to the signal detector, advantageously by voltage divider action, and capacitor means provides DC isolation between the humidity detector(s) and any DC voltage component in the signal circuit, and also between humidity detectors when a plurality are used. Advantageously the humidity detector(s) are directly connected to the heating grid, and varying DC voltage levels at the point(s) of connection to the grid are isolated by the capacitor means. Particular arrangements of the humidity detectors on the window and connections to the heating grid are described. Apparatus for heating a vehicle window comprising a heating grid for said window, a switch for connection of said grid to a source of electrical energy, an oscillator and a signal detector, a signal circuit for coupling the output of said oscillator to the input of said signal detector, said signal circuit having a DC voltage component at at least one point thereof, a humidity detector having a pair of spaced apart conductors disposed on the window, one of said conductors being connected directly to a point of said heating grid which is at different DC voltages when said switch is opened and closed respectively, coupling means for AC coupling the other conductor of said pair to said signal circuit to control the amplitude of oscillationslied from said oscillator to said signal detector in response to variation of the impedance between said conductors, said coupling means including capacitor means for providing DC isolation between said humidity detector and any DC voltage component in said signal circuit, and means responsive to the output of said signal detector for actuating said switch.,Apparatus according to claim 1 in which said coupling means includes a pair of capacitors connected in series in said signal circuit between said oscillator and said signal detector and a connection from said other conductor of said humidity detector to the common point between said pair of capacitors.,Apparatus according to claim 1 in which said coupling means includes a series capacitor connected between said humidity detector and said signal circuit.,Apparatus according to claim 1 in which said signal circuit includes a pre-amplifier connected between said oscillator and said signal detector and a resistor connected in the output circuit of the oscillator, said coupling means connecting said humidity detector in series with said resistor to form a voltage divider between the output of the oscillator and the input of the pre-amplifier.,Apparatus according to claim 1 including a thermostatic switch connected in AC parallel with said humidity detector and DC isolated therefrom.,Apparatus according to claim 1 including a plurality of humidity detectors, said coupling means AC coupling said humidity detectors to said signal circuit with DC isolation between the humidity detectors and between the humidity detectors and any DC voltage component in said signal circuit.,Apparatus according to claim 6 in which said plurality of humidity detectors are connected between different points of said heating grid having different DC voltage levels when the grid is energized, and said signal circuit.'"
      ]
     },
     "execution_count": 8,
     "metadata": {},
     "output_type": "execute_result"
    }
   ],
   "source": [
    "input_data7['combined'].iloc[123]"
   ]
  },
  {
   "cell_type": "markdown",
   "metadata": {
    "collapsed": true
   },
   "source": [
    "### Enter new patent here"
   ]
  },
  {
   "cell_type": "code",
   "execution_count": 33,
   "metadata": {
    "collapsed": true
   },
   "outputs": [],
   "source": [
    "# test_patent = ('''A lock for a height-adjustable crib or playpen requires two distinct manual operations in order to release \n",
    "# the lock on each crib leg. Each lock includes a rigid metal bracket which engages around the extensible part o\n",
    "# f the leg and is pivotally connected to a crib corner post. The bracket has a nose which projects into one of a \n",
    "# series of openings in the extensible part of the leg then the bracket is swung against the leg part to prevent\n",
    "# movement of the leg part relative to the post. The upper edge of the bracket is slotted to receive a latch pivotally \n",
    "# connected to the corner post just above the bracket. The latch drops into the slot when the nose is engaged in one of the openings \n",
    "# so that the bracket cannot be moved.''')\n",
    "\n",
    "test_patent = ('''A scaffold structure comprising a pair of leg frames and a support frame. The support frame includes\n",
    "a pair of posts vertically slidably received in the leg frames and means for locking the same thereto at selected elevations. \n",
    "The support frame includes telescopically engaged members whereby it can be \n",
    "extended or contracted and locked to provide a support of different lengths.\n",
    " A scaffold structure comprising at least two rigid\n",
    "5\n",
    "10\n",
    "15\n",
    "leg frames, each set of leg frames including a pair of 20\n",
    "spaced-apart legs and a top portion, upper collar ele\n",
    "ments each having an opening therethrough and being\n",
    "secured to said top portion with said openings extend\n",
    "ing vertically, a platform frame including a pair of par allel spaced-apart post members having cross-sections\n",
    "complementary to said collar openings whereby said\n",
    "posts are slidably, vertically received through said\n",
    "upper collars, respectively, a platform support includ\n",
    "ing a pair of telescopically engaged platform members\n",
    "fixedly secured adjacent their distal ends to respective\n",
    "ones of the upper ends of said post members, post locking means for locking said posts in selected verti\n",
    "cally displaced positions to said collar members with\n",
    "said platform members extending laterally between\n",
    "said leg frames in a plane generally perpendicular to\n",
    "the plane including said legs, support locking means for\n",
    "locking said support members in selected telescopically extended positions, a storage collar element fixedly secured to each of said leg frames, each said storage collar element having an opening therethrough, said\n",
    "openings having an axis disposed generally parallel to a\n",
    "plane including said legs, said storage collar openings being dimensioned to slidably receive said posts there\n",
    "through, the outer one of said platform members being\n",
    "open at both ends thereof, the inner one of said plat form members being slidably receivable into either end\n",
    "thereof, whereby said leg frames can be vertically stacked in interlocking relationship upon one another, said platform support can be assembled with said posts in closely spaced-apart relationship with said posts being slidably received in said storage collar elements.\n",
    "2. The structure of claim 1 wherein said support locking means includes a threaded opening through the\n",
    "25\n",
    "30\n",
    "35\n",
    "40\n",
    "45\n",
    "50\n",
    "55\n",
    "60\n",
    "65\n",
    "6\n",
    "outer one of said telescopically engaged platform mem\n",
    "bers and a threaded element threadingly received\n",
    "therein, said threaded element frictionally engaging the\n",
    "inner one of said telescopically engaged platform mem\n",
    "bers upon rotation thereof to thereby lock said mem\n",
    "bers.\n",
    "3. The structure of claim 1 wherein at least one of\n",
    "said storage collar elements includes locking means for\n",
    "locking one of said posts thereto.\n",
    "4. The structure of claim 1 further including a brace\n",
    "fixedly secured between said leg portions of each said\n",
    "leg frame in vertically spaced-apart relationship to said\n",
    "top portion, a lower collar element having an opening therethrough secured to each of said braces with the\n",
    "opening thereof in axial alignment with the respective\n",
    "one of said openings of said upper collar elements, said\n",
    "lower collar element openings being dimensioned to\n",
    "receive said posts therein.\n",
    "5. The structure of claim 4 wherein said upper and\n",
    "lower collar elements are tubular elements of rectangu lar cross-section, said posts having a rectangular cross\n",
    "section dimension to be slidably received within said\n",
    "upper and lower collar elements, relative rotational\n",
    "movement therebetween being restrained thereby. 6. The structure of claim 4 wherein said post locking\n",
    "means includes a pair of holes formed in axial registry through opposite sides of one of said upper and lower\n",
    "collar members, a plurality of vertically spaced-apart holes through said posts in positions in registry with\n",
    "said collar holes at each vertically spaced-apart posi tion of said platform frame, and a retaining pin having\n",
    "a length greater than the distance between said collar\n",
    "holes and a diameter dimensioned to be slidably re\n",
    "ceived therein.\n",
    "7. The structure of claim 6 wherein said retaining pins further include a spring clip having a U-shaped configuration and dimensioned to resiliently and lock\n",
    "ingly engage said collar elements when said retaining pins are received therein.\n",
    "8. The structure of claim 4 wherein said leg frames\n",
    "are formed of a single elongated member formed into\n",
    "an arch, said leg portions being the distal ends of said\n",
    "member, said top portion being the apex portion of said\n",
    "arch.\n",
    "9. The structure of claim 8 wherein said posts are\n",
    "received through said upper and lower collar elements\n",
    "with said platform members disposed in a position above said top portions.\n",
    "10. The structure of claim 8 wherein said posts are\n",
    "received through said upper and lower collar elements\n",
    "with said platform members disposed below said top portions. ''')"
   ]
  },
  {
   "cell_type": "code",
   "execution_count": 34,
   "metadata": {
    "collapsed": true
   },
   "outputs": [],
   "source": [
    "test_clean = word_tokenize(clean(test_patent))"
   ]
  },
  {
   "cell_type": "code",
   "execution_count": 35,
   "metadata": {},
   "outputs": [
    {
     "data": {
      "text/plain": [
       "['scaffold',\n",
       " 'structure',\n",
       " 'comprising',\n",
       " 'pair',\n",
       " 'leg',\n",
       " 'frame',\n",
       " 'support',\n",
       " 'frame',\n",
       " 'support',\n",
       " 'frame',\n",
       " 'includes',\n",
       " 'pair',\n",
       " 'post',\n",
       " 'vertically',\n",
       " 'slidably',\n",
       " 'received',\n",
       " 'leg',\n",
       " 'frame',\n",
       " 'mean',\n",
       " 'locking',\n",
       " 'thereto',\n",
       " 'selected',\n",
       " 'elevation',\n",
       " 'the',\n",
       " 'support',\n",
       " 'frame',\n",
       " 'includes',\n",
       " 'telescopically',\n",
       " 'engaged',\n",
       " 'member',\n",
       " 'whereby',\n",
       " 'extended',\n",
       " 'contracted',\n",
       " 'locked',\n",
       " 'provide',\n",
       " 'support',\n",
       " 'different',\n",
       " 'length',\n",
       " 'scaffold',\n",
       " 'structure',\n",
       " 'comprising',\n",
       " 'least',\n",
       " 'two',\n",
       " 'rigid',\n",
       " 'leg',\n",
       " 'frame',\n",
       " 'set',\n",
       " 'leg',\n",
       " 'frame',\n",
       " 'including',\n",
       " 'pair',\n",
       " 'spaced-apart',\n",
       " 'leg',\n",
       " 'top',\n",
       " 'portion',\n",
       " 'upper',\n",
       " 'collar',\n",
       " 'ele',\n",
       " 'ments',\n",
       " 'opening',\n",
       " 'therethrough',\n",
       " 'being',\n",
       " 'secured',\n",
       " 'said',\n",
       " 'top',\n",
       " 'portion',\n",
       " 'said',\n",
       " 'opening',\n",
       " 'extend',\n",
       " 'ing',\n",
       " 'vertically',\n",
       " 'platform',\n",
       " 'frame',\n",
       " 'including',\n",
       " 'pair',\n",
       " 'par',\n",
       " 'allel',\n",
       " 'spaced-apart',\n",
       " 'post',\n",
       " 'member',\n",
       " 'cross-sections',\n",
       " 'complementary',\n",
       " 'said',\n",
       " 'collar',\n",
       " 'opening',\n",
       " 'whereby',\n",
       " 'said',\n",
       " 'post',\n",
       " 'slidably',\n",
       " 'vertically',\n",
       " 'received',\n",
       " 'said',\n",
       " 'upper',\n",
       " 'collar',\n",
       " 'respectively',\n",
       " 'platform',\n",
       " 'support',\n",
       " 'includ',\n",
       " 'ing',\n",
       " 'pair',\n",
       " 'telescopically',\n",
       " 'engaged',\n",
       " 'platform',\n",
       " 'member',\n",
       " 'fixedly',\n",
       " 'secured',\n",
       " 'adjacent',\n",
       " 'distal',\n",
       " 'end',\n",
       " 'respective',\n",
       " 'one',\n",
       " 'upper',\n",
       " 'end',\n",
       " 'said',\n",
       " 'post',\n",
       " 'member',\n",
       " 'post',\n",
       " 'locking',\n",
       " 'mean',\n",
       " 'locking',\n",
       " 'said',\n",
       " 'post',\n",
       " 'selected',\n",
       " 'verti',\n",
       " 'cally',\n",
       " 'displaced',\n",
       " 'position',\n",
       " 'said',\n",
       " 'collar',\n",
       " 'member',\n",
       " 'with',\n",
       " 'said',\n",
       " 'platform',\n",
       " 'member',\n",
       " 'extending',\n",
       " 'laterally',\n",
       " 'between',\n",
       " 'said',\n",
       " 'leg',\n",
       " 'frame',\n",
       " 'plane',\n",
       " 'generally',\n",
       " 'perpendicular',\n",
       " 'the',\n",
       " 'plane',\n",
       " 'including',\n",
       " 'said',\n",
       " 'leg',\n",
       " 'support',\n",
       " 'locking',\n",
       " 'mean',\n",
       " 'for',\n",
       " 'locking',\n",
       " 'said',\n",
       " 'support',\n",
       " 'member',\n",
       " 'selected',\n",
       " 'telescopically',\n",
       " 'extended',\n",
       " 'position',\n",
       " 'storage',\n",
       " 'collar',\n",
       " 'element',\n",
       " 'fixedly',\n",
       " 'secured',\n",
       " 'said',\n",
       " 'leg',\n",
       " 'frame',\n",
       " 'said',\n",
       " 'storage',\n",
       " 'collar',\n",
       " 'element',\n",
       " 'opening',\n",
       " 'therethrough',\n",
       " 'said',\n",
       " 'opening',\n",
       " 'axis',\n",
       " 'disposed',\n",
       " 'generally',\n",
       " 'parallel',\n",
       " 'plane',\n",
       " 'including',\n",
       " 'said',\n",
       " 'leg',\n",
       " 'said',\n",
       " 'storage',\n",
       " 'collar',\n",
       " 'opening',\n",
       " 'dimensioned',\n",
       " 'slidably',\n",
       " 'receive',\n",
       " 'said',\n",
       " 'post',\n",
       " 'there',\n",
       " 'through',\n",
       " 'outer',\n",
       " 'one',\n",
       " 'said',\n",
       " 'platform',\n",
       " 'member',\n",
       " 'being',\n",
       " 'open',\n",
       " 'end',\n",
       " 'thereof',\n",
       " 'inner',\n",
       " 'one',\n",
       " 'said',\n",
       " 'plat',\n",
       " 'form',\n",
       " 'member',\n",
       " 'slidably',\n",
       " 'receivable',\n",
       " 'either',\n",
       " 'end',\n",
       " 'thereof',\n",
       " 'whereby',\n",
       " 'said',\n",
       " 'leg',\n",
       " 'frame',\n",
       " 'vertically',\n",
       " 'stacked',\n",
       " 'interlocking',\n",
       " 'relationship',\n",
       " 'upon',\n",
       " 'one',\n",
       " 'another',\n",
       " 'said',\n",
       " 'platform',\n",
       " 'support',\n",
       " 'assembled',\n",
       " 'said',\n",
       " 'post',\n",
       " 'closely',\n",
       " 'spaced-apart',\n",
       " 'relationship',\n",
       " 'said',\n",
       " 'post',\n",
       " 'slidably',\n",
       " 'received',\n",
       " 'said',\n",
       " 'storage',\n",
       " 'collar',\n",
       " 'element',\n",
       " 'structure',\n",
       " 'claim',\n",
       " 'wherein',\n",
       " 'said',\n",
       " 'support',\n",
       " 'locking',\n",
       " 'mean',\n",
       " 'includes',\n",
       " 'threaded',\n",
       " 'opening',\n",
       " 'the',\n",
       " 'outer',\n",
       " 'one',\n",
       " 'said',\n",
       " 'telescopically',\n",
       " 'engaged',\n",
       " 'platform',\n",
       " 'mem',\n",
       " 'bers',\n",
       " 'threaded',\n",
       " 'element',\n",
       " 'threadingly',\n",
       " 'received',\n",
       " 'therein',\n",
       " 'said',\n",
       " 'threaded',\n",
       " 'element',\n",
       " 'frictionally',\n",
       " 'engaging',\n",
       " 'the',\n",
       " 'inner',\n",
       " 'one',\n",
       " 'said',\n",
       " 'telescopically',\n",
       " 'engaged',\n",
       " 'platform',\n",
       " 'mem',\n",
       " 'bers',\n",
       " 'upon',\n",
       " 'rotation',\n",
       " 'thereof',\n",
       " 'thereby',\n",
       " 'lock',\n",
       " 'said',\n",
       " 'mem',\n",
       " 'bers',\n",
       " 'structure',\n",
       " 'claim',\n",
       " 'wherein',\n",
       " 'least',\n",
       " 'one',\n",
       " 'said',\n",
       " 'storage',\n",
       " 'collar',\n",
       " 'element',\n",
       " 'includes',\n",
       " 'locking',\n",
       " 'mean',\n",
       " 'for',\n",
       " 'locking',\n",
       " 'one',\n",
       " 'said',\n",
       " 'post',\n",
       " 'thereto',\n",
       " 'structure',\n",
       " 'claim',\n",
       " 'including',\n",
       " 'brace',\n",
       " 'fixedly',\n",
       " 'secured',\n",
       " 'said',\n",
       " 'leg',\n",
       " 'portion',\n",
       " 'said',\n",
       " 'leg',\n",
       " 'frame',\n",
       " 'vertically',\n",
       " 'spaced-apart',\n",
       " 'relationship',\n",
       " 'said',\n",
       " 'top',\n",
       " 'portion',\n",
       " 'lower',\n",
       " 'collar',\n",
       " 'element',\n",
       " 'opening',\n",
       " 'therethrough',\n",
       " 'secured',\n",
       " 'said',\n",
       " 'brace',\n",
       " 'the',\n",
       " 'opening',\n",
       " 'thereof',\n",
       " 'axial',\n",
       " 'alignment',\n",
       " 'respective',\n",
       " 'one',\n",
       " 'said',\n",
       " 'opening',\n",
       " 'said',\n",
       " 'upper',\n",
       " 'collar',\n",
       " 'element',\n",
       " 'said',\n",
       " 'lower',\n",
       " 'collar',\n",
       " 'element',\n",
       " 'opening',\n",
       " 'dimensioned',\n",
       " 'receive',\n",
       " 'said',\n",
       " 'post',\n",
       " 'therein',\n",
       " 'structure',\n",
       " 'claim',\n",
       " 'wherein',\n",
       " 'said',\n",
       " 'upper',\n",
       " 'and',\n",
       " 'lower',\n",
       " 'collar',\n",
       " 'element',\n",
       " 'tubular',\n",
       " 'element',\n",
       " 'rectangu',\n",
       " 'lar',\n",
       " 'cross-section',\n",
       " 'said',\n",
       " 'post',\n",
       " 'rectangular',\n",
       " 'cross',\n",
       " 'section',\n",
       " 'dimension',\n",
       " 'slidably',\n",
       " 'received',\n",
       " 'within',\n",
       " 'said',\n",
       " 'upper',\n",
       " 'lower',\n",
       " 'collar',\n",
       " 'element',\n",
       " 'relative',\n",
       " 'rotational',\n",
       " 'movement',\n",
       " 'therebetween',\n",
       " 'restrained',\n",
       " 'thereby',\n",
       " 'structure',\n",
       " 'claim',\n",
       " 'wherein',\n",
       " 'said',\n",
       " 'post',\n",
       " 'locking',\n",
       " 'mean',\n",
       " 'includes',\n",
       " 'pair',\n",
       " 'hole',\n",
       " 'formed',\n",
       " 'axial',\n",
       " 'registry',\n",
       " 'opposite',\n",
       " 'side',\n",
       " 'one',\n",
       " 'said',\n",
       " 'upper',\n",
       " 'lower',\n",
       " 'collar',\n",
       " 'member',\n",
       " 'plurality',\n",
       " 'vertically',\n",
       " 'spaced-apart',\n",
       " 'hole',\n",
       " 'said',\n",
       " 'post',\n",
       " 'position',\n",
       " 'registry',\n",
       " 'with',\n",
       " 'said',\n",
       " 'collar',\n",
       " 'hole',\n",
       " 'vertically',\n",
       " 'spaced-apart',\n",
       " 'posi',\n",
       " 'tion',\n",
       " 'said',\n",
       " 'platform',\n",
       " 'frame',\n",
       " 'retaining',\n",
       " 'pin',\n",
       " 'having',\n",
       " 'length',\n",
       " 'greater',\n",
       " 'distance',\n",
       " 'said',\n",
       " 'collar',\n",
       " 'hole',\n",
       " 'diameter',\n",
       " 'dimensioned',\n",
       " 'slidably',\n",
       " 'ceived',\n",
       " 'therein',\n",
       " 'structure',\n",
       " 'claim',\n",
       " 'wherein',\n",
       " 'said',\n",
       " 'retaining',\n",
       " 'pin',\n",
       " 'include',\n",
       " 'spring',\n",
       " 'clip',\n",
       " 'u-shaped',\n",
       " 'configuration',\n",
       " 'dimensioned',\n",
       " 'resiliently',\n",
       " 'lock',\n",
       " 'ingly',\n",
       " 'engage',\n",
       " 'said',\n",
       " 'collar',\n",
       " 'element',\n",
       " 'said',\n",
       " 'retaining',\n",
       " 'pin',\n",
       " 'received',\n",
       " 'therein',\n",
       " 'structure',\n",
       " 'claim',\n",
       " 'wherein',\n",
       " 'said',\n",
       " 'leg',\n",
       " 'frame',\n",
       " 'are',\n",
       " 'formed',\n",
       " 'single',\n",
       " 'elongated',\n",
       " 'member',\n",
       " 'formed',\n",
       " 'into',\n",
       " 'arch',\n",
       " 'said',\n",
       " 'leg',\n",
       " 'portion',\n",
       " 'distal',\n",
       " 'end',\n",
       " 'said',\n",
       " 'member',\n",
       " 'said',\n",
       " 'top',\n",
       " 'portion',\n",
       " 'apex',\n",
       " 'portion',\n",
       " 'said',\n",
       " 'arch',\n",
       " 'structure',\n",
       " 'claim',\n",
       " 'wherein',\n",
       " 'said',\n",
       " 'post',\n",
       " 'are',\n",
       " 'received',\n",
       " 'said',\n",
       " 'upper',\n",
       " 'lower',\n",
       " 'collar',\n",
       " 'element',\n",
       " 'with',\n",
       " 'said',\n",
       " 'platform',\n",
       " 'member',\n",
       " 'disposed',\n",
       " 'position',\n",
       " 'said',\n",
       " 'top',\n",
       " 'portion',\n",
       " 'structure',\n",
       " 'claim',\n",
       " 'wherein',\n",
       " 'said',\n",
       " 'post',\n",
       " 'are',\n",
       " 'received',\n",
       " 'said',\n",
       " 'upper',\n",
       " 'lower',\n",
       " 'collar',\n",
       " 'element',\n",
       " 'with',\n",
       " 'said',\n",
       " 'platform',\n",
       " 'member',\n",
       " 'disposed',\n",
       " 'said',\n",
       " 'top',\n",
       " 'portion']"
      ]
     },
     "execution_count": 35,
     "metadata": {},
     "output_type": "execute_result"
    }
   ],
   "source": [
    "test_clean"
   ]
  },
  {
   "cell_type": "markdown",
   "metadata": {},
   "source": [
    "#### Vectorize the new patent"
   ]
  },
  {
   "cell_type": "code",
   "execution_count": 36,
   "metadata": {},
   "outputs": [
    {
     "name": "stdout",
     "output_type": "stream",
     "text": [
      "V1_infer [  1.11685939e-01  -5.47943950e-01  -4.72416282e-01   2.08398327e-01\n",
      "  -1.24691451e+00   2.98042655e-01  -1.21586367e-01  -5.04402995e-01\n",
      "  -2.25994382e-02  -7.04359859e-02  -1.39247760e-01  -1.05102599e-01\n",
      "   4.24232006e-01  -7.68381298e-01   6.92254364e-01  -7.97585428e-01\n",
      "   1.07196815e-01   1.24219252e-04  -7.47146726e-01  -1.65851370e-01\n",
      "   3.50263000e-01  -2.40573868e-01  -6.64941192e-01   7.76044905e-01\n",
      "   9.37049910e-02  -9.28207021e-03  -3.85854512e-01   5.38405776e-01\n",
      "  -1.38598651e-01  -1.42000747e+00   7.63916612e-01  -4.26681042e-01\n",
      "  -6.89471781e-01  -1.00065267e+00  -8.46102774e-01   1.44360304e-01\n",
      "   2.88803816e-01  -1.15489654e-01  -7.76152611e-01   8.74718308e-01\n",
      "   2.97739148e-01  -8.00522149e-01   8.19579586e-02   4.37727928e-01\n",
      "   4.62005645e-01   6.12255037e-01  -3.40763330e-02   3.63751054e-01\n",
      "   2.85684913e-01   3.91590416e-01  -1.73106074e-01   7.52761364e-02\n",
      "   6.04505181e-01  -6.29939735e-01   2.21603021e-01  -1.18645795e-01\n",
      "  -4.04369205e-01   7.01869488e-01   4.48077798e-01   2.01210752e-01\n",
      "   5.12575746e-01  -5.72394788e-01   3.83113474e-01   8.58045459e-01\n",
      "   4.29332525e-01   2.07526237e-01  -4.52661574e-01   7.96869576e-01\n",
      "  -1.32002383e-01  -3.28789920e-01  -2.53372252e-01   3.59658331e-01\n",
      "  -8.44244361e-02   3.62872362e-01   6.83617666e-02  -8.59379053e-01\n",
      "  -3.14556360e-01   2.06282154e-01   1.76475048e-01   2.54433513e-01\n",
      "  -9.91828069e-02  -4.53093380e-01  -6.72694206e-01  -1.27137244e-01\n",
      "  -4.87897158e-01   4.45192792e-02  -3.08783680e-01  -6.05204940e-01\n",
      "   8.96687746e-01  -2.46106178e-01   1.05478249e-01  -4.79124457e-01\n",
      "   3.71684521e-01   4.83301371e-01  -4.08626676e-01   1.14670061e-01\n",
      "   1.13304526e-01  -1.64768785e-01  -9.41699088e-01   8.49878043e-02\n",
      "   7.93443471e-02   4.34228498e-03  -5.88966608e-01   3.63295168e-01\n",
      "  -6.47800863e-01   1.22826770e-01   3.40926558e-01   5.34562051e-01\n",
      "  -5.76719046e-01   1.02346802e+00  -2.55794317e-01   2.89548878e-02\n",
      "  -2.26682141e-01  -4.17882890e-01   1.04335621e-01  -2.52868146e-01\n",
      "  -2.76959866e-01  -8.04584980e-01  -4.96728495e-02  -7.27405488e-01\n",
      "   8.35439682e-01   9.02533680e-02  -4.07001734e-01  -5.33621371e-01\n",
      "   5.03601909e-01   2.46762142e-01  -7.21698031e-02   3.80443275e-01\n",
      "  -7.31068373e-01   2.13710696e-01  -3.58831674e-01   1.09025896e+00\n",
      "  -7.07385689e-03  -3.52821738e-01  -5.38620532e-01   8.27443123e-01\n",
      "   6.27906978e-01   6.41338229e-02   1.24538146e-01   4.29826118e-02\n",
      "  -2.53749847e-01  -1.00383580e+00   1.75919831e-01   1.34385481e-01\n",
      "   7.10159242e-01  -4.09979559e-03  -3.88274163e-01   4.73254286e-02\n",
      "   1.83515549e-01   1.05336845e+00  -3.21428180e-02  -6.63074553e-01\n",
      "  -5.69138646e-01   2.73108393e-01  -5.04527271e-01  -6.24313235e-01\n",
      "  -2.09298894e-01  -1.19302340e-01  -1.91255257e-01  -3.54146272e-01\n",
      "  -1.22974372e+00  -1.06219806e-01  -3.67817432e-01  -4.33474630e-01\n",
      "  -8.64320397e-02   6.61873758e-01  -3.86267863e-02  -8.40579495e-02\n",
      "   8.75025094e-02  -8.58827382e-02  -3.95335644e-01   7.31953263e-01\n",
      "  -4.06814426e-01  -2.18501016e-01  -2.00495645e-01  -7.85385370e-01\n",
      "   7.57402897e-01  -1.38156623e-01  -2.08472669e-01  -4.28454101e-01\n",
      "   5.67879140e-01  -9.55297768e-01   2.37085938e-01   8.77272710e-02\n",
      "  -2.76095986e-01  -3.17530215e-01   5.09608984e-01  -5.75464785e-01\n",
      "   9.03641507e-02   4.89606887e-01  -7.49606550e-01   1.25964493e-01\n",
      "   5.46365917e-01  -9.56817687e-01  -4.35845584e-01  -6.15257740e-01\n",
      "  -3.83876801e-01   3.90494406e-01   5.64100146e-01  -5.31897664e-01\n",
      "  -3.42975020e-01  -1.47124872e-01  -4.54212278e-01   6.16169512e-01\n",
      "  -2.03249320e-01  -2.60614127e-01   7.10000515e-01  -1.25417426e-01\n",
      "   2.82979161e-02   3.18246394e-01   3.36740106e-01   8.10926929e-02\n",
      "   2.96190619e-01   1.08830854e-01   2.52519548e-01   1.37963161e-01\n",
      "  -1.11804083e-01  -1.46323457e-01  -5.65712512e-01  -2.17342213e-01\n",
      "   2.59381473e-01  -5.57735980e-01   4.58937585e-02  -2.82590315e-02\n",
      "   5.26934147e-01  -1.71459988e-02   3.44707340e-01   6.12968326e-01\n",
      "  -2.23963261e-02   6.61000550e-01   4.62664962e-01   2.98724324e-01\n",
      "  -5.24234295e-01  -8.59462544e-02   2.58668393e-01   2.63213396e-01\n",
      "   4.71289426e-01  -8.94016847e-02  -3.71986330e-01   1.93909124e-01\n",
      "   9.52828944e-01  -2.33169720e-01   4.97126222e-01   7.36562669e-01\n",
      "  -2.99376518e-01   3.15476730e-02   7.34369755e-02  -1.64335415e-01\n",
      "   5.71599901e-01  -1.80308729e-01   1.82725474e-01   2.61533707e-01\n",
      "  -8.08125377e-01   2.89080977e-01  -2.30892822e-01   1.23350777e-01\n",
      "   3.81173044e-01  -1.07507944e+00   2.35648379e-01  -3.55984092e-01\n",
      "   3.70513976e-01   6.80348516e-01  -5.58906376e-01  -3.17211419e-01\n",
      "  -3.76182318e-01  -2.32171223e-01   2.75726527e-01   1.86235338e-01\n",
      "  -3.92773598e-01   8.56239349e-02   4.22722876e-01   2.06065446e-01\n",
      "   7.55278230e-01   2.74575144e-01   3.18147331e-01   4.98350948e-01\n",
      "  -1.36547118e-01  -1.68974832e-01  -1.06490386e+00   4.91229713e-01\n",
      "   7.37981915e-01  -4.41141613e-02  -2.59006530e-01  -4.47873861e-01\n",
      "  -1.82563558e-01   1.53541014e-01  -4.60812390e-01   4.40644100e-02\n",
      "  -4.94353808e-02  -8.68059695e-02  -1.61177173e-01  -5.48397481e-01\n",
      "  -4.58625138e-01   3.15824628e-01  -4.82551008e-02   1.18886612e-01\n",
      "  -4.70115291e-03  -4.23065603e-01   3.77336621e-01  -6.58033013e-01]\n"
     ]
    }
   ],
   "source": [
    "\n",
    "v1 = modell.infer_vector(test_clean)\n",
    "print(\"V1_infer\", v1)\n"
   ]
  },
  {
   "cell_type": "markdown",
   "metadata": {},
   "source": [
    "#### Check similarity with existing patents"
   ]
  },
  {
   "cell_type": "code",
   "execution_count": 41,
   "metadata": {
    "collapsed": true
   },
   "outputs": [],
   "source": [
    "vector_1 = modell.docvecs[\"42\"]"
   ]
  },
  {
   "cell_type": "code",
   "execution_count": 42,
   "metadata": {
    "collapsed": true
   },
   "outputs": [],
   "source": [
    "from sklearn.metrics.pairwise import cosine_similarity"
   ]
  },
  {
   "cell_type": "code",
   "execution_count": 43,
   "metadata": {},
   "outputs": [
    {
     "name": "stderr",
     "output_type": "stream",
     "text": [
      "C:\\ProgramData\\Anaconda3\\lib\\site-packages\\sklearn\\utils\\validation.py:395: DeprecationWarning: Passing 1d arrays as data is deprecated in 0.17 and will raise ValueError in 0.19. Reshape your data either using X.reshape(-1, 1) if your data has a single feature or X.reshape(1, -1) if it contains a single sample.\n",
      "  DeprecationWarning)\n",
      "C:\\ProgramData\\Anaconda3\\lib\\site-packages\\sklearn\\utils\\validation.py:395: DeprecationWarning: Passing 1d arrays as data is deprecated in 0.17 and will raise ValueError in 0.19. Reshape your data either using X.reshape(-1, 1) if your data has a single feature or X.reshape(1, -1) if it contains a single sample.\n",
      "  DeprecationWarning)\n"
     ]
    },
    {
     "data": {
      "text/plain": [
       "array([[ 0.36031145]], dtype=float32)"
      ]
     },
     "execution_count": 43,
     "metadata": {},
     "output_type": "execute_result"
    }
   ],
   "source": [
    "cosine_similarity(vector_1, v1)"
   ]
  },
  {
   "cell_type": "code",
   "execution_count": 37,
   "metadata": {},
   "outputs": [
    {
     "name": "stdout",
     "output_type": "stream",
     "text": [
      "[('2537', 0.39173418283462524), ('3920', 0.38003069162368774), ('3089', 0.37289172410964966), ('3109', 0.37259286642074585), ('5515', 0.3642394542694092), ('5583', 0.36417338252067566), ('42', 0.36031144857406616), ('5169', 0.3592569828033447), ('83', 0.3530380129814148), ('885', 0.3510917127132416)]\n"
     ]
    }
   ],
   "source": [
    "similar_doc_test = modell.docvecs.most_similar([v1])\n",
    "print(similar_doc_test)"
   ]
  },
  {
   "cell_type": "markdown",
   "metadata": {},
   "source": [
    "#### Manually check similar patents"
   ]
  },
  {
   "cell_type": "code",
   "execution_count": 48,
   "metadata": {},
   "outputs": [
    {
     "data": {
      "text/plain": [
       "'Door lock A lock for sliding doors for cabinets and the like. A shoulder on a catch element carried by the door extends through a lock opening in the cabinet frame and engages the edge thereof to secure the door. A key of particular length moves the shoulder from the locked position to an intermediate position at which it can pass outwardly through the back opening. If the catch element is moved too far, a second shoulder engages the edge of the lock opening and the door cannot be opened. A lock for securing a door member to a frame member, said lock comprising:means defining a lock opening having first and second edge portions on one of said members,a catch element mounted on the other of said members, said catch element having a free end portion extendable through said lock opening when said door member is closed, said free end portion having first and second locking shoulders extending outwardly in different directions, said free end portion being movable between a first position wherein said first shoulder is engageable with said first edge portion to prevent said door from being opened, a second position wherein said second shoulder is engageable with said second edge portion to prevent said door from being opened, and a third position intermediate said first and second positions wherein both of said shoulders can pass freely through said lock opening to allow said door to be opened, said free end portion being biased toward said first position, andkey means engageable with said catch element to move said free end portion between said first position and said third position.,The lock of claim 1 wherein said free end portion is laterally movable between said first, second and third positions, wherein said other of said elements is provided with a key opening aligned with said catch element whereby said key is insertable through said key opening to engage said catch element, and further comprising key stop means for limiting the movement of said key means through said opening to that point at which said free end portions are in said third position.,The lock of claim 2 wherein said first shoulder extends radially outwardly from said free end portion generally in the direction of said first position, wherein said second shoulder extends radially outwardly in a direction at least generally perpendicular to that of said first shoulder.,The lock of claim 3 wherein said catch element is provided at the point of engagement by said key means with a first surface engageable by said key means flanked by at least one second surface inclined at an angle away from the direction of insertion of said key means to deflect away unauthorized instruments.,The lock of claim 3 wherein said second shoulder extends perpendicularly to said first shoulder and wherein said lock opening comprises a main portion of sufficient width to permit free passage of both of said shoulders when said free end portion is in said third position and an auxiliary portion of lesser width to preclude passage of said second shoulder when said free end portion is in said second position.,The lock of claim 5 wherein said catch element comprises a pair of spaced generally parallel leg members, each carrying a said free end portion having a said first shoulder and a said second shoulder, and wherein said second shoulders are out-turned in generally opposite directions from one another.,A lock for securing a door member to a frame member, said lock comprising:a lock opening in one of said members, said lock opening having a first portion defined by a top edge and a pair of opposed first side edges and a second portion defined by a bottom edge and a pair of opposed second side edges,a catch element mounted on the other of said members, said catch element comprising a leg member terminating in a free end portion alignable with said lock opening,a first shoulder extending outwardly from said free end portion and engageable with said top edge,a second shoulder extending outwardly from said free end portion and engageable with one of said edges of said bottom portion,said free end portion being laterally movable between a first position wherein said first shoulder is engageable with said top edge, a second position wherein said second shoulder is engageable with one of said edges of said auxiliary portion, and a third position intermediate said first and second positions wherein both of said shoulders can pass freely through said lock opening, said free end portions being biased toward said first position,a key opening in said other of said elements aligned with said catch element, andkey means insertable through said key opening in the direction of movement of said free end portion to engage said catch element to move said free end portion between said first position and said third position, said key means comprising stop means for limiting the movement of said key means so that said key means cannot move said free end portion beyond said third position toward said second position.,The lock of claim 7 wherein said catch element comprises a pair of spaced catch legs, each of said legs comprising a free end portion, a first shoulder and a second shoulder.,The lock of claim 8 further comprising a pair of said key openings in said other of said members, one of said key openings being aligned with one of said catch legs and the other of said key openings being aligned with the other of said catch legs, and wherein said key comprises a pair of spaced key legs, each of said key legs being insertable through one of said key openings to engage one of said catch legs.,The lock of claim 9 wherein each said key leg engages said catch leg at a catch leg contact surface, and wherein said catch leg contact surface is flanked by at least one inclined surface to deflect unauthorized objects.,The lock of claim 10 further comprising a pair of upstanding wall members on each of said legs on either side of said contact surface and generally parallel to said key legs to form a key leg channel, to keep said key legs from moving axially with respect to said contact surface during engagement therewith.,The lock of claim 9 wherein said means for limiting the movement of said key comprises a stop surface interposed between said key legs and engaging said one of said members between said key openings.,The lock of claim 9 wherein said second shoulders extend outwardly in opposite directions to be engageable with said second side edges, and wherein said second side edges are spaced a lesser distance from one another than are said first side edges.,The lock of claim 13 wherein each said free end portion further comprises an upwardly oriented inclined cam surface engageable with said top edge as said catch element enters said opening whereby said free end is cammed downwardly to pass through said opening.,The lock of claim 14 wherein said catch element is attached to said door member and said lock opening is in said frame member.,The lock of claim 11 wherein said other of said members is provided with a recess surrounding said key openings, and wherein said wall portions terminate in inclined end surfaces engageable with said recess to align said contact surface beneath said key openings when said free end portions are in said first position.'"
      ]
     },
     "execution_count": 48,
     "metadata": {},
     "output_type": "execute_result"
    }
   ],
   "source": [
    "input_data7['combined'].iloc[42]"
   ]
  },
  {
   "cell_type": "markdown",
   "metadata": {},
   "source": [
    "## Clustering "
   ]
  },
  {
   "cell_type": "code",
   "execution_count": 21,
   "metadata": {
    "collapsed": true
   },
   "outputs": [],
   "source": [
    "from sklearn.cluster import KMeans\n",
    "from sklearn.decomposition import PCA \n",
    "import numpy as np\n",
    "import matplotlib.pyplot as plt\n",
    "%matplotlib inline\n",
    "\n"
   ]
  },
  {
   "cell_type": "code",
   "execution_count": 22,
   "metadata": {
    "collapsed": true
   },
   "outputs": [],
   "source": [
    "mat = modell.docvecs[0]\n",
    "mat = mat.reshape(1,300)\n",
    "\n",
    "for i in range(1, 5651):\n",
    "    doc_vec = modell.docvecs[i]\n",
    "    doc_vec = doc_vec.reshape(1,300)\n",
    "    mat = np.vstack((mat,doc_vec))"
   ]
  },
  {
   "cell_type": "code",
   "execution_count": 13,
   "metadata": {},
   "outputs": [
    {
     "data": {
      "text/plain": [
       "(1, 300)"
      ]
     },
     "execution_count": 13,
     "metadata": {},
     "output_type": "execute_result"
    }
   ],
   "source": [
    "np.vstack(b).shape"
   ]
  },
  {
   "cell_type": "code",
   "execution_count": 14,
   "metadata": {
    "collapsed": true
   },
   "outputs": [],
   "source": [
    "mat.shape\n",
    "X=mat"
   ]
  },
  {
   "cell_type": "markdown",
   "metadata": {},
   "source": [
    "### Scree plot to check for number of principal components to use\n"
   ]
  },
  {
   "cell_type": "code",
   "execution_count": 25,
   "metadata": {},
   "outputs": [
    {
     "data": {
      "text/plain": [
       "array([   1.6,    2.9,    4.1,    5.2,    6.2,    7.2,    8.2,    9.1,\n",
       "         10. ,   10.8,   11.6,   12.4,   13.2,   14. ,   14.7,   15.4,\n",
       "         16.1,   16.8,   17.5,   18.2,   18.9,   19.6,   20.2,   20.8,\n",
       "         21.4,   22. ,   22.6,   23.2,   23.8,   24.4,   25. ,   25.6,\n",
       "         26.2,   26.8,   27.4,   27.9,   28.4,   28.9,   29.4,   29.9,\n",
       "         30.4,   30.9,   31.4,   31.9,   32.4,   32.9,   33.4,   33.9,\n",
       "         34.4,   34.9,   35.4,   35.9,   36.4,   36.9,   37.4,   37.9,\n",
       "         38.4,   38.9,   39.4,   39.8,   40.2,   40.6,   41. ,   41.4,\n",
       "         41.8,   42.2,   42.6,   43. ,   43.4,   43.8,   44.2,   44.6,\n",
       "         45. ,   45.4,   45.8,   46.2,   46.6,   47. ,   47.4,   47.8,\n",
       "         48.2,   48.6,   49. ,   49.4,   49.8,   50.2,   50.6,   51. ,\n",
       "         51.4,   51.8,   52.2,   52.6,   53. ,   53.4,   53.8,   54.2,\n",
       "         54.6,   55. ,   55.4,   55.8,   56.2,   56.6,   56.9,   57.2,\n",
       "         57.5,   57.8,   58.1,   58.4,   58.7,   59. ,   59.3,   59.6,\n",
       "         59.9,   60.2,   60.5,   60.8,   61.1,   61.4,   61.7,   62. ,\n",
       "         62.3,   62.6,   62.9,   63.2,   63.5,   63.8,   64.1,   64.4,\n",
       "         64.7,   65. ,   65.3,   65.6,   65.9,   66.2,   66.5,   66.8,\n",
       "         67.1,   67.4,   67.7,   68. ,   68.3,   68.6,   68.9,   69.2,\n",
       "         69.5,   69.8,   70.1,   70.4,   70.7,   71. ,   71.3,   71.6,\n",
       "         71.9,   72.2,   72.5,   72.8,   73.1,   73.4,   73.7,   74. ,\n",
       "         74.3,   74.6,   74.9,   75.2,   75.5,   75.8,   76.1,   76.4,\n",
       "         76.7,   77. ,   77.3,   77.6,   77.9,   78.1,   78.3,   78.5,\n",
       "         78.7,   78.9,   79.1,   79.3,   79.5,   79.7,   79.9,   80.1,\n",
       "         80.3,   80.5,   80.7,   80.9,   81.1,   81.3,   81.5,   81.7,\n",
       "         81.9,   82.1,   82.3,   82.5,   82.7,   82.9,   83.1,   83.3,\n",
       "         83.5,   83.7,   83.9,   84.1,   84.3,   84.5,   84.7,   84.9,\n",
       "         85.1,   85.3,   85.5,   85.7,   85.9,   86.1,   86.3,   86.5,\n",
       "         86.7,   86.9,   87.1,   87.3,   87.5,   87.7,   87.9,   88.1,\n",
       "         88.3,   88.5,   88.7,   88.9,   89.1,   89.3,   89.5,   89.7,\n",
       "         89.9,   90.1,   90.3,   90.5,   90.7,   90.9,   91.1,   91.3,\n",
       "         91.5,   91.7,   91.9,   92.1,   92.3,   92.5,   92.7,   92.9,\n",
       "         93.1,   93.3,   93.5,   93.7,   93.9,   94.1,   94.3,   94.5,\n",
       "         94.7,   94.9,   95.1,   95.3,   95.5,   95.7,   95.9,   96.1,\n",
       "         96.3,   96.5,   96.7,   96.9,   97.1,   97.3,   97.4,   97.5,\n",
       "         97.6,   97.7,   97.8,   97.9,   98. ,   98.1,   98.2,   98.3,\n",
       "         98.4,   98.5,   98.6,   98.7,   98.8,   98.9,   99. ,   99.1,\n",
       "         99.2,   99.3,   99.4,   99.5,   99.6,   99.7,   99.8,   99.9,\n",
       "        100. ,  100.1,  100.1,  100.1])"
      ]
     },
     "execution_count": 25,
     "metadata": {},
     "output_type": "execute_result"
    }
   ],
   "source": [
    "covar_matrix = PCA(n_components = 300)\n",
    "\n",
    "covar_matrix.fit(X)\n",
    "variance = covar_matrix.explained_variance_ratio_ #calculate variance ratios\n",
    "\n",
    "var=np.cumsum(np.round(covar_matrix.explained_variance_ratio_, decimals=3)*100)\n",
    "var #cumulative sum of variance explained with [n] features\n",
    "\n"
   ]
  },
  {
   "cell_type": "code",
   "execution_count": 29,
   "metadata": {},
   "outputs": [
    {
     "data": {
      "text/plain": [
       "[<matplotlib.lines.Line2D at 0x2989b35b048>]"
      ]
     },
     "execution_count": 29,
     "metadata": {},
     "output_type": "execute_result"
    },
    {
     "data": {
      "image/png": "[encoded data removed]",
      "text/plain": [
       "<matplotlib.figure.Figure at 0x2989b2eda90>"
      ]
     },
     "metadata": {},
     "output_type": "display_data"
    }
   ],
   "source": [
    "plt.figure(figsize=(13,13))\n",
    "plt.ylabel('% Variance Explained')\n",
    "plt.xlabel('# of Features')\n",
    "plt.title('PCA Analysis')\n",
    "#plt.ylim(30,100.5)\n",
    "plt.style.context('seaborn-whitegrid')\n",
    "\n",
    "\n",
    "plt.plot(var)"
   ]
  },
  {
   "cell_type": "markdown",
   "metadata": {},
   "source": [
    "### K-Means clustering \n"
   ]
  },
  {
   "cell_type": "markdown",
   "metadata": {},
   "source": [
    "###### Elbow method to check for optimal number of clusters"
   ]
  },
  {
   "cell_type": "code",
   "execution_count": 85,
   "metadata": {
    "collapsed": true
   },
   "outputs": [],
   "source": [
    "Sum_of_squared_distances = []\n",
    "K = range(1,20)\n",
    "for k in K:\n",
    "    km = KMeans(n_clusters=k)\n",
    "    km = km.fit(reduced_data)\n",
    "    Sum_of_squared_distances.append(km.inertia_)"
   ]
  },
  {
   "cell_type": "code",
   "execution_count": 86,
   "metadata": {},
   "outputs": [
    {
     "data": {
      "image/png": "[encoded data removed]",
      "text/plain": [
       "<matplotlib.figure.Figure at 0x29893545a20>"
      ]
     },
     "metadata": {},
     "output_type": "display_data"
    }
   ],
   "source": [
    "plt.figure(figsize=(20,10))\n",
    "plt.plot(K, Sum_of_squared_distances)\n",
    "plt.xlabel('k')\n",
    "plt.ylabel('Distortion')\n",
    "plt.title('The Elbow Method showing the optimal k')\n",
    "plt.show()\n"
   ]
  },
  {
   "cell_type": "code",
   "execution_count": 72,
   "metadata": {},
   "outputs": [
    {
     "data": {
      "text/plain": [
       "KMeans(algorithm='auto', copy_x=True, init='k-means++', max_iter=300,\n",
       "    n_clusters=5, n_init=10, n_jobs=1, precompute_distances='auto',\n",
       "    random_state=None, tol=0.0001, verbose=0)"
      ]
     },
     "execution_count": 72,
     "metadata": {},
     "output_type": "execute_result"
    }
   ],
   "source": [
    "reduced_data = PCA(n_components=2).fit_transform(X)\n",
    "kmeans = KMeans(init='k-means++', n_clusters=5)\n",
    "kmeans.fit(reduced_data)\n"
   ]
  },
  {
   "cell_type": "code",
   "execution_count": 73,
   "metadata": {
    "collapsed": true
   },
   "outputs": [],
   "source": [
    "h = .02     # point in the mesh [x_min, x_max]x[y_min, y_max].\n",
    "\n",
    "# Plot the decision boundary. For that, we will assign a color to each\n",
    "x_min, x_max = reduced_data[:, 0].min(), reduced_data[:, 0].max() \n",
    "y_min, y_max = reduced_data[:, 1].min(), reduced_data[:, 1].max() \n",
    "xx, yy = np.meshgrid(np.arange(x_min, x_max, h), np.arange(y_min, y_max, h))\n"
   ]
  },
  {
   "cell_type": "code",
   "execution_count": 74,
   "metadata": {},
   "outputs": [
    {
     "data": {
      "text/plain": [
       "(1430, 1480)"
      ]
     },
     "execution_count": 74,
     "metadata": {},
     "output_type": "execute_result"
    }
   ],
   "source": [
    "Z = kmeans.predict(np.c_[xx.ravel(), yy.ravel()])\n",
    "\n",
    "#Z = kmeans.predict(reduced_data([:100],[:]))\n",
    "Z.shape\n",
    "xx.shape"
   ]
  },
  {
   "cell_type": "code",
   "execution_count": 75,
   "metadata": {},
   "outputs": [
    {
     "data": {
      "image/png": "[encoded data removed]",
      "text/plain": [
       "<matplotlib.figure.Figure at 0x2989b32a588>"
      ]
     },
     "metadata": {},
     "output_type": "display_data"
    }
   ],
   "source": [
    "Z = Z.reshape(xx.shape)\n",
    "plt.figure(figsize=(20,10))\n",
    "plt.clf()\n",
    "plt.imshow(Z, interpolation='nearest',\n",
    "           extent=(xx.min(), xx.max(), yy.min(), yy.max()),\n",
    "           cmap=plt.cm.Paired,\n",
    "           aspect='auto', origin='lower')\n",
    "\n",
    "plt.plot(reduced_data[:, 0], reduced_data[:, 1], 'k.', markersize=2)\n",
    "# Plot the centroids as a white X\n",
    "centroids = kmeans.cluster_centers_\n",
    "plt.scatter(centroids[:, 0], centroids[:, 1],\n",
    "            marker='x', s=169, linewidths=3,\n",
    "            color='w', zorder=10)\n",
    "plt.title('K-means clustering on the patent dataset (PCA-reduced data)\\n'\n",
    "          'Centroids are marked with white cross')\n",
    "plt.xlim(x_min, x_max)\n",
    "plt.ylim(y_min, y_max)\n",
    "plt.xticks(())\n",
    "plt.yticks(())\n",
    "plt.show()"
   ]
  },
  {
   "cell_type": "code",
   "execution_count": null,
   "metadata": {
    "collapsed": true
   },
   "outputs": [],
   "source": []
  }
 ],
 "metadata": {
  "kernelspec": {
   "display_name": "Python 3",
   "language": "python",
   "name": "python3"
  },
  "language_info": {
   "codemirror_mode": {
    "name": "ipython",
    "version": 3
   },
   "file_extension": ".py",
   "mimetype": "text/x-python",
   "name": "python",
   "nbconvert_exporter": "python",
   "pygments_lexer": "ipython3",
   "version": "3.6.1"
  }
 },
 "nbformat": 4,
 "nbformat_minor": 2
}
